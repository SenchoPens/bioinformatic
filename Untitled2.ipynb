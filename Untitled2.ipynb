{
 "cells": [
  {
   "cell_type": "code",
   "execution_count": 1,
   "metadata": {
    "ExecuteTime": {
     "end_time": "2017-06-14T20:40:37.636583Z",
     "start_time": "2017-06-14T20:40:35.544368Z"
    }
   },
   "outputs": [
    {
     "name": "stdout",
     "output_type": "stream",
     "text": [
      "3\n"
     ]
    },
    {
     "ename": "TypeError",
     "evalue": "'NoneType' object is not callable",
     "output_type": "error",
     "traceback": [
      "\u001b[0;31m---------------------------------------------------------------------------\u001b[0m",
      "\u001b[0;31mTypeError\u001b[0m                                 Traceback (most recent call last)",
      "\u001b[0;32m<ipython-input-1-57ea57ce20c3>\u001b[0m in \u001b[0;36m<module>\u001b[0;34m()\u001b[0m\n\u001b[1;32m      6\u001b[0m \u001b[0;32mfrom\u001b[0m \u001b[0mcoconut\u001b[0m\u001b[0;34m.\u001b[0m\u001b[0m__coconut__\u001b[0m \u001b[0;32mimport\u001b[0m \u001b[0m_coconut\u001b[0m\u001b[0;34m,\u001b[0m \u001b[0m_coconut_MatchError\u001b[0m\u001b[0;34m,\u001b[0m \u001b[0m_coconut_tail_call\u001b[0m\u001b[0;34m,\u001b[0m \u001b[0m_coconut_tco\u001b[0m\u001b[0;34m,\u001b[0m \u001b[0m_coconut_igetitem\u001b[0m\u001b[0;34m,\u001b[0m \u001b[0m_coconut_compose\u001b[0m\u001b[0;34m,\u001b[0m \u001b[0m_coconut_pipe\u001b[0m\u001b[0;34m,\u001b[0m \u001b[0m_coconut_starpipe\u001b[0m\u001b[0;34m,\u001b[0m \u001b[0m_coconut_backpipe\u001b[0m\u001b[0;34m,\u001b[0m \u001b[0m_coconut_backstarpipe\u001b[0m\u001b[0;34m,\u001b[0m \u001b[0m_coconut_bool_and\u001b[0m\u001b[0;34m,\u001b[0m \u001b[0m_coconut_bool_or\u001b[0m\u001b[0;34m,\u001b[0m \u001b[0m_coconut_minus\u001b[0m\u001b[0;34m,\u001b[0m \u001b[0m_coconut_map\u001b[0m\u001b[0;34m,\u001b[0m \u001b[0m_coconut_partial\u001b[0m\u001b[0;34m\u001b[0m\u001b[0m\n\u001b[1;32m      7\u001b[0m \u001b[0;32mfrom\u001b[0m \u001b[0mcoconut\u001b[0m\u001b[0;34m.\u001b[0m\u001b[0m__coconut__\u001b[0m \u001b[0;32mimport\u001b[0m \u001b[0;34m*\u001b[0m\u001b[0;34m\u001b[0m\u001b[0m\n\u001b[0;32m----> 8\u001b[0;31m \u001b[0;36m1\u001b[0m\u001b[0;34m,\u001b[0m \u001b[0;36m2\u001b[0m\u001b[0;34m,\u001b[0m \u001b[0;34m(\u001b[0m\u001b[0;34m(\u001b[0m\u001b[0mprint\u001b[0m\u001b[0;34m)\u001b[0m\u001b[0;34m(\u001b[0m\u001b[0;36m3\u001b[0m\u001b[0;34m)\u001b[0m\u001b[0;34m)\u001b[0m\u001b[0;34m(\u001b[0m\u001b[0;36m4\u001b[0m\u001b[0;34m)\u001b[0m\u001b[0;34m,\u001b[0m \u001b[0;36m5\u001b[0m\u001b[0;34m,\u001b[0m \u001b[0;36m6\u001b[0m  \u001b[0;31m# line 1: 1, 2, 3 |> print <| 4, 5, 6\u001b[0m\u001b[0;34m\u001b[0m\u001b[0m\n\u001b[0m",
      "\u001b[0;31mTypeError\u001b[0m: 'NoneType' object is not callable"
     ]
    }
   ],
   "source": [
    "1, 2, 3 |> print <| 4, 5, 6"
   ]
  },
  {
   "cell_type": "code",
   "execution_count": 7,
   "metadata": {
    "ExecuteTime": {
     "end_time": "2017-06-14T20:42:29.365062Z",
     "start_time": "2017-06-14T20:42:29.180661Z"
    }
   },
   "outputs": [
    {
     "name": "stdout",
     "output_type": "stream",
     "text": [
      "1\n",
      "hi 3\n"
     ]
    },
    {
     "data": {
      "text/plain": [
       "(None, 2, None)"
      ]
     },
     "execution_count": 7,
     "metadata": {},
     "output_type": "execute_result"
    }
   ],
   "source": [
    "print <| 1, 2, 3 |> print$('hi', ?)"
   ]
  },
  {
   "cell_type": "code",
   "execution_count": 10,
   "metadata": {
    "ExecuteTime": {
     "end_time": "2017-06-14T20:43:23.810027Z",
     "start_time": "2017-06-14T20:43:23.752102Z"
    }
   },
   "outputs": [
    {
     "name": "stdout",
     "output_type": "stream",
     "text": [
      "1 2\n"
     ]
    }
   ],
   "source": [
    "(| 1, 2 |) |*> print"
   ]
  },
  {
   "cell_type": "code",
   "execution_count": 12,
   "metadata": {
    "ExecuteTime": {
     "end_time": "2017-06-14T20:45:45.372811Z",
     "start_time": "2017-06-14T20:45:45.093674Z"
    }
   },
   "outputs": [
    {
     "name": "stdout",
     "output_type": "stream",
     "text": [
      "[1, 2, 3, 4, 5, 6, 7, 8, 9, 10, 11, 12, 13, 14, 15, 16, 17, 18, 19, 20, 21, 22, 23, 24, 25, 26, 27, 28, 29, 30, 31, 32, 33, 34, 35, 36, 37, 38, 39, 40, 41, 42, 43, 44, 45, 46, 47, 48, 49, 50, 51, 52, 53, 54, 55, 56, 57, 58, 59, 60, 61, 62, 63, 64, 65, 66, 67, 68, 69, 70, 71, 72, 73, 74, 75, 76, 77, 78, 79, 80, 81, 82, 83, 84, 85, 86, 87, 88, 89, 90, 91, 92, 93, 94, 95, 96, 97, 98, 99, 100]\n"
     ]
    }
   ],
   "source": [
    "parallel_map((+)$(1), range(100)) |> list |> print"
   ]
  },
  {
   "cell_type": "code",
   "execution_count": null,
   "metadata": {
    "collapsed": true
   },
   "outputs": [],
   "source": []
  }
 ],
 "metadata": {
  "kernelspec": {
   "display_name": "Python 3",
   "language": "python",
   "name": "python3"
  },
  "language_info": {
   "codemirror_mode": {
    "name": "ipython",
    "version": 3
   },
   "file_extension": ".py",
   "mimetype": "text/x-python",
   "name": "python",
   "nbconvert_exporter": "python",
   "pygments_lexer": "ipython3",
   "version": "3.6.4"
  }
 },
 "nbformat": 4,
 "nbformat_minor": 2
}
