{
 "cells": [
  {
   "cell_type": "code",
   "execution_count": 3,
   "metadata": {
    "collapsed": true
   },
   "outputs": [],
   "source": [
    "from collections import Counter"
   ]
  },
  {
   "cell_type": "code",
   "execution_count": 4,
   "metadata": {
    "collapsed": true
   },
   "outputs": [],
   "source": [
    "def count_av_read_length(file):\n",
    "    # Считает среднюю длину ридов в файле\n",
    "    av_len = 0\n",
    "    read_count = 0\n",
    "    for read in file:\n",
    "        av_len += len(read)\n",
    "        read_count += 1\n",
    "    return av_len / read_count"
   ]
  },
  {
   "cell_type": "code",
   "execution_count": 26,
   "metadata": {
    "collapsed": true
   },
   "outputs": [],
   "source": [
    "test = open('test.dna')\n",
    "alien = open('alien.dna')"
   ]
  },
  {
   "cell_type": "code",
   "execution_count": 9,
   "metadata": {},
   "outputs": [
    {
     "name": "stdout",
     "output_type": "stream",
     "text": [
      "176.144\n",
      "176.00368397471001\n"
     ]
    }
   ],
   "source": [
    "print(count_av_read_length(test))\n",
    "print(count_av_read_length(alien))"
   ]
  },
  {
   "cell_type": "code",
   "execution_count": 27,
   "metadata": {
    "collapsed": true
   },
   "outputs": [],
   "source": [
    "def count_nucl(file):\n",
    "    nucl_count = Counter()\n",
    "    for read in file:\n",
    "        nucl_count += Counter(read)\n",
    "    \n",
    "    total_len = sum(nucl_count.values())\n",
    "    for nucl, count in nucl_count.items():\n",
    "        nucl_count[nucl] = int(count / total_len * 100)\n",
    "    return nucl_count"
   ]
  },
  {
   "cell_type": "code",
   "execution_count": 28,
   "metadata": {},
   "outputs": [
    {
     "name": "stdout",
     "output_type": "stream",
     "text": [
      "[('D', 17), ('A', 17), ('F', 17), ('B', 16), ('C', 15), ('E', 14), ('\\n', 0)]\n",
      "[('F', 17), ('B', 16), ('E', 16), ('D', 16), ('A', 16), ('C', 15), ('\\n', 0)]\n"
     ]
    }
   ],
   "source": [
    "# Посчитаем нуклеотиды\n",
    "print(count_nucl(test).most_common())\n",
    "print(count_nucl(alien).most_common())\n",
    "# Ничего особо полезного "
   ]
  },
  {
   "cell_type": "code",
   "execution_count": null,
   "metadata": {
    "collapsed": true
   },
   "outputs": [],
   "source": [
    "# длина небольшая, попробуем графы де Бреина\n",
    "# Т.К. мы не знаем ничего про комплементарность, не будем ее учитывать."
   ]
  },
  {
   "cell_type": "code",
   "execution_count": 1,
   "metadata": {
    "collapsed": true
   },
   "outputs": [],
   "source": [
    "def count_delta(nucl, filename):\n",
    "    min_ = float('inf')\n",
    "    max_ = 0\n",
    "    with open(filename) as file:\n",
    "        for read in file:\n",
    "            c = read.count(nucl)\n",
    "            min_ = min(c, min_)\n",
    "            max_ = max(c, max_)\n",
    "    return max_ - min_"
   ]
  },
  {
   "cell_type": "code",
   "execution_count": 3,
   "metadata": {},
   "outputs": [
    {
     "name": "stdout",
     "output_type": "stream",
     "text": [
      "A 74\n",
      "B 70\n",
      "C 64\n",
      "D 79\n",
      "E 74\n",
      "F 63\n"
     ]
    }
   ],
   "source": [
    "for nucl in 'ABCDEF':\n",
    "    print(nucl, count_delta(nucl, 'alien.dna'))"
   ]
  },
  {
   "cell_type": "code",
   "execution_count": null,
   "metadata": {
    "collapsed": true
   },
   "outputs": [],
   "source": []
  }
 ],
 "metadata": {
  "kernelspec": {
   "display_name": "Python 3",
   "language": "python",
   "name": "python3"
  },
  "language_info": {
   "codemirror_mode": {
    "name": "ipython",
    "version": 3
   },
   "file_extension": ".py",
   "mimetype": "text/x-python",
   "name": "python",
   "nbconvert_exporter": "python",
   "pygments_lexer": "ipython3",
   "version": "3.6.1"
  }
 },
 "nbformat": 4,
 "nbformat_minor": 2
}
