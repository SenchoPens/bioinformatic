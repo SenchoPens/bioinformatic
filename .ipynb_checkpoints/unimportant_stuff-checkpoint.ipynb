{
 "cells": [
  {
   "cell_type": "code",
   "execution_count": 4,
   "metadata": {},
   "outputs": [],
   "source": [
    "def count_av_read_length(file):\n",
    "    # Считает среднюю длину ридов в файле\n",
    "    av_len = 0\n",
    "    read_count = 0\n",
    "    for read in file:\n",
    "        av_len += len(read)\n",
    "        read_count += 1\n",
    "    return av_len / read_count"
   ]
  },
  {
   "cell_type": "code",
   "execution_count": 8,
   "metadata": {
    "collapsed": true
   },
   "outputs": [],
   "source": [
    "test = open('test.dna')\n",
    "alien = open('alien.dna')"
   ]
  },
  {
   "cell_type": "code",
   "execution_count": 9,
   "metadata": {},
   "outputs": [
    {
     "name": "stdout",
     "output_type": "stream",
     "text": [
      "176.144\n",
      "176.00368397471001\n"
     ]
    }
   ],
   "source": [
    "print(count_av_read_length(test))\n",
    "print(count_av_read_length(alien))"
   ]
  },
  {
   "cell_type": "code",
   "execution_count": null,
   "metadata": {
    "collapsed": true
   },
   "outputs": [],
   "source": []
  }
 ],
 "metadata": {
  "kernelspec": {
   "display_name": "Python 3",
   "language": "python",
   "name": "python3"
  },
  "language_info": {
   "codemirror_mode": {
    "name": "ipython",
    "version": 3
   },
   "file_extension": ".py",
   "mimetype": "text/x-python",
   "name": "python",
   "nbconvert_exporter": "python",
   "pygments_lexer": "ipython3",
   "version": "3.6.1"
  }
 },
 "nbformat": 4,
 "nbformat_minor": 2
}
