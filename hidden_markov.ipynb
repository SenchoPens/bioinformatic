{
 "cells": [
  {
   "cell_type": "code",
   "execution_count": 25,
   "metadata": {
    "collapsed": true
   },
   "outputs": [],
   "source": [
    "import matplotlib.pyplot as plt\n",
    "import re"
   ]
  },
  {
   "cell_type": "code",
   "execution_count": 26,
   "metadata": {
    "collapsed": true
   },
   "outputs": [],
   "source": [
    "n_hidden = 2\n",
    "n_open = 2\n",
    "\n",
    "tr1 = tr = [[0.999, 0.001], [0.01, 0.99]]\n",
    "init = [0.996, 0.004]\n",
    "tr = [[0.999, 0.001], [0.01, 0.99]]\n",
    "em = [[0.582, 0.418], [0.338, 0.662]]\n",
    "\n",
    "o_id = {\n",
    "    'A': 0,\n",
    "    'C': 1,\n",
    "    'G': 1,\n",
    "    'T': 0\n",
    "    }\n",
    "\n",
    "tr_trained10 = [[0.9999557195293833, 4.428047061661027e-05],\n",
    " [0.004384737382218491, 0.9956152626177815]]"
   ]
  },
  {
   "cell_type": "code",
   "execution_count": 27,
   "metadata": {},
   "outputs": [
    {
     "data": {
      "text/plain": [
       "[[], []]"
      ]
     },
     "execution_count": 27,
     "metadata": {},
     "output_type": "execute_result"
    }
   ],
   "source": [
    "v = [[init[i]] for i in range(n_hidden)]\n",
    "v\n",
    "prev = [[] for i in range(n_hidden)]\n",
    "prev"
   ]
  },
  {
   "cell_type": "code",
   "execution_count": 28,
   "metadata": {
    "collapsed": true
   },
   "outputs": [],
   "source": [
    "fa = open('cholerae.fasta')\n",
    "next(fa)\n",
    "data = fa.read()\n",
    "seq = ''.join(data.split('\\n'))\n",
    "k = 10000\n",
    "shift = 5000\n",
    "GC_content = []\n",
    "begin = []\n",
    "for i in range(0, len(seq), shift):\n",
    "    w = seq[i:i+k]\n",
    "    GC_content.append((w.count('C') + w.count('G')) / len(w))\n",
    "    begin.append(i)"
   ]
  },
  {
   "cell_type": "code",
   "execution_count": 29,
   "metadata": {
    "collapsed": true
   },
   "outputs": [],
   "source": [
    "def find_p(col, i, o):\n",
    "    max_p = 0, -1\n",
    "    for h in range(n_hidden):\n",
    "        # колонка - тек сост\n",
    "        \n",
    "        #   |вер было пред сост\n",
    "        #   |           |вер пер из сост в нашу колонку\n",
    "        #   |           |            |вер пер из нашей колонки в наш наблюд\n",
    "        p = v[h][i-1] * tr[h][col] * em[col][o], h\n",
    "        max_p = max(max_p, p)\n",
    "    return max_p"
   ]
  },
  {
   "cell_type": "code",
   "execution_count": 30,
   "metadata": {
    "collapsed": true
   },
   "outputs": [],
   "source": [
    "def overcount(seq, s):\n",
    "    return sum(1 for _ in re.finditer('(?=' + s + ')', seq))"
   ]
  },
  {
   "cell_type": "code",
   "execution_count": 31,
   "metadata": {
    "collapsed": true
   },
   "outputs": [],
   "source": [
    "def viterbi(i, j, tr, seq):\n",
    "    ij = overcount(seq, str(i) + str(j))\n",
    "    print('-'*50)\n",
    "    print(str(i) + str(j))\n",
    "    all_c = 0\n",
    "    for k in range(n_hidden):\n",
    "        print(str(i) + str(k))\n",
    "        all_c += overcount(seq, str(i) + str(k))\n",
    "    new = ij / all_c\n",
    "    print(new)\n",
    "    tr[i][j] = new"
   ]
  },
  {
   "cell_type": "code",
   "execution_count": 32,
   "metadata": {},
   "outputs": [
    {
     "name": "stdout",
     "output_type": "stream",
     "text": [
      "--------------------------------------------------\n",
      "00\n",
      "00\n",
      "01\n",
      "0.9999557195293833\n",
      "--------------------------------------------------\n",
      "01\n",
      "00\n",
      "01\n",
      "4.428047061661027e-05\n",
      "--------------------------------------------------\n",
      "10\n",
      "10\n",
      "11\n",
      "0.004384737382218491\n",
      "--------------------------------------------------\n",
      "11\n",
      "10\n",
      "11\n",
      "0.9956152626177815\n",
      "--------------------------------------------------\n",
      "00\n",
      "00\n",
      "01\n",
      "0.9999557195293833\n",
      "--------------------------------------------------\n",
      "01\n",
      "00\n",
      "01\n",
      "4.428047061661027e-05\n",
      "--------------------------------------------------\n",
      "10\n",
      "10\n",
      "11\n",
      "0.004384737382218491\n",
      "--------------------------------------------------\n",
      "11\n",
      "10\n",
      "11\n",
      "0.9956152626177815\n",
      "--------------------------------------------------\n",
      "00\n",
      "00\n",
      "01\n",
      "0.9999557195293833\n",
      "--------------------------------------------------\n",
      "01\n",
      "00\n",
      "01\n",
      "4.428047061661027e-05\n",
      "--------------------------------------------------\n",
      "10\n",
      "10\n",
      "11\n",
      "0.004384737382218491\n",
      "--------------------------------------------------\n",
      "11\n",
      "10\n",
      "11\n",
      "0.9956152626177815\n",
      "--------------------------------------------------\n",
      "00\n",
      "00\n",
      "01\n",
      "0.9999557195293833\n",
      "--------------------------------------------------\n",
      "01\n",
      "00\n",
      "01\n",
      "4.428047061661027e-05\n",
      "--------------------------------------------------\n",
      "10\n",
      "10\n",
      "11\n",
      "0.004384737382218491\n",
      "--------------------------------------------------\n",
      "11\n",
      "10\n",
      "11\n",
      "0.9956152626177815\n",
      "--------------------------------------------------\n",
      "00\n",
      "00\n",
      "01\n",
      "0.9999557195293833\n",
      "--------------------------------------------------\n",
      "01\n",
      "00\n",
      "01\n",
      "4.428047061661027e-05\n",
      "--------------------------------------------------\n",
      "10\n",
      "10\n",
      "11\n",
      "0.004384737382218491\n",
      "--------------------------------------------------\n",
      "11\n",
      "10\n",
      "11\n",
      "0.9956152626177815\n"
     ]
    }
   ],
   "source": [
    "n_learning = 15\n",
    "for k in range(n_learning):\n",
    "    for i, o in enumerate(seq):\n",
    "        obs = o_id[o]\n",
    "        ps = []\n",
    "\n",
    "        for col in range(n_hidden):\n",
    "            p = find_p(col, i+1, obs)\n",
    "            prev[col].append(p[1])\n",
    "            ps.append(p[0])\n",
    "\n",
    "        p_sum = sum(ps)\n",
    "        for pi, p in enumerate(ps):\n",
    "            ps[pi] = p / p_sum\n",
    "\n",
    "        for col in range(n_hidden):\n",
    "            v[col].append(ps[col])\n",
    "\n",
    "    col = max([(v[i][-1], i) for i in range(n_hidden)])[1]\n",
    "    path = ''\n",
    "    for i in range(len(seq)-1, -1, -1):\n",
    "        path += str(col)\n",
    "        col = prev[col][i]\n",
    "    path = path[::-1]\n",
    "    \n",
    "    for i in range(n_hidden):\n",
    "        for j in range(n_hidden):\n",
    "            viterbi(i, j, tr, path)"
   ]
  },
  {
   "cell_type": "code",
   "execution_count": 33,
   "metadata": {
    "collapsed": true
   },
   "outputs": [],
   "source": [
    "def gc_content(seq):\n",
    "    return (seq.count('C') + seq.count('G')) / len(seq)\n",
    "\n",
    "def gc_window(seq, window, shift=None):\n",
    "    begin = []\n",
    "    gc = []\n",
    "    \n",
    "    if shift is None:\n",
    "        shift = window // 2\n",
    "\n",
    "    for i in range(0, len(seq), shift):\n",
    "        begin.append(i + 1)\n",
    "        gc.append(gc_content(seq[i : i + window]))\n",
    "    \n",
    "    return begin, gc\n",
    "\n",
    "%matplotlib inline\n",
    "def plot_gc(seq, window, res, beg, end):\n",
    "    from operator import itemgetter\n",
    "    \n",
    "    gc_rich = list(map(itemgetter(0), \n",
    "       filter(itemgetter(1), enumerate(res[beg:end]))))\n",
    "    \n",
    "    begin, gc = gc_window(seq[beg:end], window)\n",
    "    plt.plot(begin, gc)\n",
    "    plt.scatter(gc_rich, [.55] * len(gc_rich),\n",
    "                color='r', s=0.2)\n",
    "    plt.show()"
   ]
  },
  {
   "cell_type": "code",
   "execution_count": 34,
   "metadata": {},
   "outputs": [
    {
     "data": {
      "image/png": "[encoded data removed]",
      "text/plain": [
       "<matplotlib.figure.Figure at 0x7f063af94550>"
      ]
     },
     "metadata": {},
     "output_type": "display_data"
    }
   ],
   "source": [
    "plot_gc(seq, 1000, list(map(int, path)), 0, len(seq))"
   ]
  },
  {
   "cell_type": "code",
   "execution_count": 35,
   "metadata": {},
   "outputs": [
    {
     "name": "stdout",
     "output_type": "stream",
     "text": [
      "10672 10719 47 47 0\n"
     ]
    }
   ],
   "source": [
    "c11 = sum(1 for _ in re.finditer('(?=11)', path))\n",
    "c1 = sum(1 for _ in re.finditer('(?=1)', path))\n",
    "c10 = sum(1 for _ in re.finditer('(?=10)', path))\n",
    "c01 = sum(1 for _ in re.finditer('(?=01)', path))\n",
    "c010 = sum(1 for _ in re.finditer('(?=010)', path))\n",
    "\n",
    "print(c11, c1, c10, c01, c010)"
   ]
  },
  {
   "cell_type": "code",
   "execution_count": 36,
   "metadata": {},
   "outputs": [
    {
     "data": {
      "text/plain": [
       "[[0.9999557195293833, 4.428047061661027e-05],\n",
       " [0.004384737382218491, 0.9956152626177815]]"
      ]
     },
     "execution_count": 36,
     "metadata": {},
     "output_type": "execute_result"
    }
   ],
   "source": [
    "tr"
   ]
  },
  {
   "cell_type": "code",
   "execution_count": null,
   "metadata": {
    "collapsed": true
   },
   "outputs": [],
   "source": []
  }
 ],
 "metadata": {
  "kernelspec": {
   "display_name": "Python 3",
   "language": "python",
   "name": "python3"
  },
  "language_info": {
   "codemirror_mode": {
    "name": "ipython",
    "version": 3
   },
   "file_extension": ".py",
   "mimetype": "text/x-python",
   "name": "python",
   "nbconvert_exporter": "python",
   "pygments_lexer": "ipython3",
   "version": "3.6.1"
  }
 },
 "nbformat": 4,
 "nbformat_minor": 2
}
