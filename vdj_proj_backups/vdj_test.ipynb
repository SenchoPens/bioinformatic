{
 "cells": [
  {
   "cell_type": "code",
   "execution_count": 12,
   "metadata": {
    "ExecuteTime": {
     "end_time": "2017-06-14T11:40:50.899626Z",
     "start_time": "2017-06-14T11:40:50.861373Z"
    },
    "collapsed": true
   },
   "outputs": [],
   "source": [
    "j = 'GACTACTGGGGCCAGGGAACCCTGGTCACCGTCTCCTCAG'"
   ]
  },
  {
   "cell_type": "code",
   "execution_count": 46,
   "metadata": {
    "ExecuteTime": {
     "end_time": "2017-06-14T12:11:38.886547Z",
     "start_time": "2017-06-14T12:11:38.881059Z"
    },
    "collapsed": true
   },
   "outputs": [],
   "source": [
    "v = '''CAGGTGCAGCTGCAGGAGTCGGGCCCAGGACTGGTGAAGCCTTCGGAGACCCTGTCCCTCACCTGCCCTGTCTCTGGTGGCTCCATCAGTAGTTACTACTGGAGCTGGATCCGGCAGCCCGCCGGGAAGGGACTGGAGTGGATTGGGCGTCTCTATACCAGTTGTAGCACCCACTACAACCCCTCCCTCAAGAGTCGACTCCCCATGTCAGTAGACACGTCCCAGAACCAGTTCTCCCTTAAGCTGTGCTCTGTGACCGCCGCCGACACCGCCGTGTCTTTCTTTTCTAGACG'''"
   ]
  },
  {
   "cell_type": "code",
   "execution_count": 42,
   "metadata": {
    "ExecuteTime": {
     "end_time": "2017-06-14T12:11:28.090612Z",
     "start_time": "2017-06-14T12:11:28.087860Z"
    },
    "collapsed": true
   },
   "outputs": [],
   "source": [
    "v1 = '''caggtgcagctgcaggagtcgggcccaggactggtgaagccttcggagaccctgtccctc\n",
    "acctgcactgtctctggtggctccatcagtagttactactggagctggatccggcagccc\n",
    "gccgggaagggactggagtggattgggcgtatctataccagtgggagcaccaactacaac\n",
    "ccctccctcaagagtcgagtcaccatgtcagtagacacgtccaagaaccagttctccctg\n",
    "aagctgagctctgtgaccgccgcggacacggccgtgtattactgtgcgagaga'''"
   ]
  },
  {
   "cell_type": "code",
   "execution_count": 43,
   "metadata": {
    "ExecuteTime": {
     "end_time": "2017-06-14T12:11:28.987921Z",
     "start_time": "2017-06-14T12:11:28.985251Z"
    },
    "collapsed": true
   },
   "outputs": [],
   "source": [
    "v1 = v1.replace('\\n', '')"
   ]
  },
  {
   "cell_type": "code",
   "execution_count": 44,
   "metadata": {
    "ExecuteTime": {
     "end_time": "2017-06-14T12:11:29.465513Z",
     "start_time": "2017-06-14T12:11:29.462629Z"
    }
   },
   "outputs": [],
   "source": [
    "v1 = v1.upper()"
   ]
  },
  {
   "cell_type": "code",
   "execution_count": 23,
   "metadata": {
    "ExecuteTime": {
     "end_time": "2017-06-14T12:02:39.429680Z",
     "start_time": "2017-06-14T12:02:39.369743Z"
    }
   },
   "outputs": [
    {
     "data": {
      "text/plain": [
       "'CAGGTGCAGCTGCAGGAGTCGGGCCCAGGACTGGTGAAGCCTTCGGAGACCCTGTCCCTCACCTGCCCTGTCTCTGGTGGCTCCATCAGTAGTTACTACTGGAGCTGGATCCGGCAGCCCGCCGGGAAGGGACTGGAGTGGATTGGGCGTCTCTATACCAGTTGTAGCACCCACTACAACCCCTCCCTCAAGAGTCGACTCCCCATGTCAGTAGACACGTCCCAGAACCAGTTCTCCCTTAAGCTGTGCTCTGTGACCGCCGCCGACACCGCCGTGTCTTTCTTTTCTAGACG'"
      ]
     },
     "execution_count": 23,
     "metadata": {},
     "output_type": "execute_result"
    }
   ],
   "source": [
    "v.upper()"
   ]
  },
  {
   "cell_type": "code",
   "execution_count": 24,
   "metadata": {
    "ExecuteTime": {
     "end_time": "2017-06-14T12:04:03.142451Z",
     "start_time": "2017-06-14T12:04:03.138866Z"
    }
   },
   "outputs": [
    {
     "data": {
      "text/plain": [
       "293"
      ]
     },
     "execution_count": 24,
     "metadata": {},
     "output_type": "execute_result"
    }
   ],
   "source": [
    "len(v1)"
   ]
  },
  {
   "cell_type": "code",
   "execution_count": 45,
   "metadata": {
    "ExecuteTime": {
     "end_time": "2017-06-14T12:11:33.502407Z",
     "start_time": "2017-06-14T12:11:33.496399Z"
    }
   },
   "outputs": [
    {
     "data": {
      "text/plain": [
       "-1"
      ]
     },
     "execution_count": 45,
     "metadata": {},
     "output_type": "execute_result"
    }
   ],
   "source": [
    "a.find(v1)"
   ]
  },
  {
   "cell_type": "code",
   "execution_count": 37,
   "metadata": {
    "ExecuteTime": {
     "end_time": "2017-06-14T12:11:07.598677Z",
     "start_time": "2017-06-14T12:11:07.594127Z"
    }
   },
   "outputs": [
    {
     "data": {
      "text/plain": [
       "'CAGGTGCAGCTGCAGGAGTCGGGCCCAGGACTGGTGAAGCCTTCGGAGACCCTGTCCCTCACCTGCACTGTCTCTGGTGGCTCCATCAGTAGTTACTACTGGAGCTGGATCCGGCAGCCCGCCGGGAAGGGACTGGAGTGGATTGGGCGTATCTATACCAGTGGGAGCACCAACTACAACCCCTCCCTCAAGAGTCGAGTCACCATGTCAGTAGACACGTCCAAGAACCAGTTCTCCCTGAAGCTGAGCTCTGTGACCGCCGCGGACACGGCCGTGTATTACTGTGCGAGAGA'"
      ]
     },
     "execution_count": 37,
     "metadata": {},
     "output_type": "execute_result"
    }
   ],
   "source": [
    "v1"
   ]
  },
  {
   "cell_type": "code",
   "execution_count": 38,
   "metadata": {
    "ExecuteTime": {
     "end_time": "2017-06-14T12:11:11.383389Z",
     "start_time": "2017-06-14T12:11:11.377870Z"
    },
    "collapsed": true
   },
   "outputs": [],
   "source": [
    "v2 = 'CAGGTGCAGCTGCAGGAGTCGGGCCCAGGACTGGTGAAGCCTTCGGAGACCCTGTCCCTCACCTGCACTGTCTCTGGTGGCTCCATCAGTAGTTACTACTGGAGCTGGATCCGGCAGCCCGCCGGGAAGGGACTGGAGTGGATTGGGCGTATCTATACCAGTGGGAGCACCAACTACAACCCCTCCCTCAAGAGTCGAGTCACCATGTCAGTAGACACGTCCAAGAACCAGTTCTCCCTGAAGCTGAGCTCTGTGACCGCCGCGGACACGGCCGTGTATTACTGTGCGAGAGA'"
   ]
  },
  {
   "cell_type": "code",
   "execution_count": 39,
   "metadata": {
    "ExecuteTime": {
     "end_time": "2017-06-14T12:11:11.754305Z",
     "start_time": "2017-06-14T12:11:11.750126Z"
    }
   },
   "outputs": [
    {
     "data": {
      "text/plain": [
       "293"
      ]
     },
     "execution_count": 39,
     "metadata": {},
     "output_type": "execute_result"
    }
   ],
   "source": [
    "len(v2)"
   ]
  },
  {
   "cell_type": "code",
   "execution_count": 40,
   "metadata": {
    "ExecuteTime": {
     "end_time": "2017-06-14T12:11:13.175439Z",
     "start_time": "2017-06-14T12:11:13.170581Z"
    }
   },
   "outputs": [
    {
     "data": {
      "text/plain": [
       "-1"
      ]
     },
     "execution_count": 40,
     "metadata": {},
     "output_type": "execute_result"
    }
   ],
   "source": [
    "a.find(v2)"
   ]
  },
  {
   "cell_type": "code",
   "execution_count": 41,
   "metadata": {
    "ExecuteTime": {
     "end_time": "2017-06-14T12:11:14.678767Z",
     "start_time": "2017-06-14T12:11:14.675117Z"
    }
   },
   "outputs": [
    {
     "data": {
      "text/plain": [
       "'CAGGTGCAGCTGCAGGAGTCGGGCCCAGGACTGGTGAAGCCTTCGGAGACCCTGTCCCTCACCTGCACTGTCTCTGGTGGCTCCATCAGTAGTTACTACTGGAGCTGGATCCGGCAGCCCGCCGGGAAGGGACTGGAGTGGATTGGGCGTATCTATACCAGTGGGAGCACCAACTACAACCCCTCCCTCAAGAGTCGAGTCACCATGTCAGTAGACACGTCCAAGAACCAGTTCTCCCTGAAGCTGAGCTCTGTGACCGCCGCGGACACGGCCGTGTATTACTGTGCGAGAGA'"
      ]
     },
     "execution_count": 41,
     "metadata": {},
     "output_type": "execute_result"
    }
   ],
   "source": [
    "v2"
   ]
  },
  {
   "cell_type": "code",
   "execution_count": 33,
   "metadata": {
    "ExecuteTime": {
     "end_time": "2017-06-14T12:10:19.400744Z",
     "start_time": "2017-06-14T12:10:19.367456Z"
    }
   },
   "outputs": [
    {
     "data": {
      "text/plain": [
       "'CAGGTGCAGCTGCAGGAGTCGGGCCCAGGACTGGTGAAGCCTTCGGAGACCCTGTCCCTCACC\\nTGCCCTGTCTCTGGTGGCTCCATCAGTAGTTACTACTGGAGCTGGATCCGGCAGCCCGCCGGG\\nAAGGGACTGGAGTGGATTGGGCGTCTCTATACCAGTTGTAGCACCCACTACAACCCCTCCCTC\\nAAGAGTCGACTCCCCATGTCAGTAGACACGTCCCAGAACCAGTTCTCCCTTAAGCTGTGCTCT\\nGTGACCGCCGCCGACACCGCCGTGTCTTTCTTTTCTAGACGCGATCCCGATCCGGGGGTCAAG\\nGACGGTGACTCTGGACTACTGGGGCCAGGGAACCCTGGTCACCGTCTCCTCAG'"
      ]
     },
     "execution_count": 33,
     "metadata": {},
     "output_type": "execute_result"
    }
   ],
   "source": [
    "a"
   ]
  },
  {
   "cell_type": "code",
   "execution_count": 34,
   "metadata": {
    "ExecuteTime": {
     "end_time": "2017-06-14T12:10:32.740996Z",
     "start_time": "2017-06-14T12:10:32.702286Z"
    },
    "collapsed": true
   },
   "outputs": [],
   "source": [
    "a = '''CAGGTGCAGCTGCAGGAGTCGGGCCCAGGACTGGTGAAGCCTTCGGAGACCCTGTCCCTCACCTGCCCTGTCTCTGGTGGCTCCATCAGTAGTTACTACTGGAGCTGGATCCGGCAGCCCGCCGGGAAGGGACTGGAGTGGATTGGGCGTCTCTATACCAGTTGTAGCACCCACTACAACCCCTCCCTCAAGAGTCGACTCCCCATGTCAGTAGACACGTCCCAGAACCAGTTCTCCCTTAAGCTGTGCTCTGTGACCGCCGCCGACACCGCCGTGTCTTTCTTTTCTAGACGCGATCCCGATCCGGGGGTCAAGGACGGTGACTCTGGACTACTGGGGCCAGGGAACCCTGGTCACCGTCTCCTCAG'''"
   ]
  },
  {
   "cell_type": "code",
   "execution_count": 35,
   "metadata": {
    "ExecuteTime": {
     "end_time": "2017-06-14T12:10:39.531034Z",
     "start_time": "2017-06-14T12:10:39.527490Z"
    }
   },
   "outputs": [
    {
     "data": {
      "text/plain": [
       "368"
      ]
     },
     "execution_count": 35,
     "metadata": {},
     "output_type": "execute_result"
    }
   ],
   "source": [
    "len(a)"
   ]
  },
  {
   "cell_type": "code",
   "execution_count": 49,
   "metadata": {
    "ExecuteTime": {
     "end_time": "2017-06-14T12:12:28.996761Z",
     "start_time": "2017-06-14T12:12:28.992716Z"
    }
   },
   "outputs": [
    {
     "data": {
      "text/plain": [
       "40"
      ]
     },
     "execution_count": 49,
     "metadata": {},
     "output_type": "execute_result"
    }
   ],
   "source": [
    "len(j)"
   ]
  },
  {
   "cell_type": "code",
   "execution_count": 50,
   "metadata": {
    "ExecuteTime": {
     "end_time": "2017-06-14T12:16:40.251143Z",
     "start_time": "2017-06-14T12:16:40.212928Z"
    },
    "collapsed": true
   },
   "outputs": [],
   "source": [
    "read_cluster_0 = 'CAGGTGCAGCTGCAGGAGTCGGGCCCAGGACTGGTGAAGCCTTCGGAGACCCTGTCCCTCACCTGCCCTGTCTCTGGTGGCTCCATCAGTAGTTACTACTGGAGCTGGATCCGGCAGCCCGCCGGGAAGGGACTGGAGTGGATTGGGCGTCTCTATACCAGTTGTAGCACCCACTACAACCCCTCCCTCAAGAGTCGACTCCCCATGTCAGTAGACACGTCCCAGAACCAGTTCTCCCTTAAGCTGTGCTCTGTGACCGCCGCCGACACCGCCGTGTCTTTCTTTTCTAGACG'"
   ]
  },
  {
   "cell_type": "code",
   "execution_count": 51,
   "metadata": {
    "ExecuteTime": {
     "end_time": "2017-06-14T12:16:46.088710Z",
     "start_time": "2017-06-14T12:16:46.037790Z"
    }
   },
   "outputs": [
    {
     "data": {
      "text/plain": [
       "293"
      ]
     },
     "execution_count": 51,
     "metadata": {},
     "output_type": "execute_result"
    }
   ],
   "source": [
    "len(read_cluster_0)"
   ]
  },
  {
   "cell_type": "code",
   "execution_count": 52,
   "metadata": {
    "ExecuteTime": {
     "end_time": "2017-06-14T12:16:51.805230Z",
     "start_time": "2017-06-14T12:16:51.743119Z"
    }
   },
   "outputs": [
    {
     "data": {
      "text/plain": [
       "0"
      ]
     },
     "execution_count": 52,
     "metadata": {},
     "output_type": "execute_result"
    }
   ],
   "source": [
    "a.find(read_cluster_0)"
   ]
  },
  {
   "cell_type": "code",
   "execution_count": 53,
   "metadata": {
    "ExecuteTime": {
     "end_time": "2017-06-14T12:17:34.591368Z",
     "start_time": "2017-06-14T12:17:34.554168Z"
    },
    "collapsed": true
   },
   "outputs": [],
   "source": [
    "gene_index_1 = 'CAGGTGCAGCTGCAGGAGTCGGGCCCAGGACTGGTGAAGCCTTCGGAGACCCTGTCCCTCACCTGCACTGTCTCTGGTGGCTCCATCAGTAGTTACTACTGGAGCTGGATCCGGCAGCCCGCCGGGAAGGGACTGGAGTGGATTGGGCGTATCTATACCAGTGGGAGCACCAACTACAACCCCTCCCTCAAGAGTCGAGTCACCATGTCAGTAGACACGTCCAAGAACCAGTTCTCCCTGAAGCTGAGCTCTGTGACCGCCGCGGACACGGCCGTGTATTACTGTGCGAGAGA'"
   ]
  },
  {
   "cell_type": "code",
   "execution_count": 55,
   "metadata": {
    "ExecuteTime": {
     "end_time": "2017-06-14T12:18:52.326628Z",
     "start_time": "2017-06-14T12:18:52.213398Z"
    }
   },
   "outputs": [
    {
     "data": {
      "text/plain": [
       "-1"
      ]
     },
     "execution_count": 55,
     "metadata": {},
     "output_type": "execute_result"
    }
   ],
   "source": [
    "a.find(gene_index_1)"
   ]
  },
  {
   "cell_type": "code",
   "execution_count": 56,
   "metadata": {
    "ExecuteTime": {
     "end_time": "2017-06-14T12:20:30.314888Z",
     "start_time": "2017-06-14T12:20:30.256572Z"
    },
    "collapsed": true
   },
   "outputs": [],
   "source": [
    "ighv_407 = '''caggtgcagctgcaggagtcgggcccaggactggtgaagccttcggagaccctgtccctc\n",
    "acctgcactgtctctggtggctccatcagtagttactactggagctggatccggcagccc\n",
    "gccgggaagggactggagtggattgggcgtatctataccagtgggagcaccaactacaac\n",
    "ccctccctcaagagtcgagtcaccatgtcagtagacacgtccaagaaccagttctccctg\n",
    "aagctgagctctgtgaccgccgcggacacggccgtgtattactgtgcgagaga'''.replace('\\n', '').upper()"
   ]
  },
  {
   "cell_type": "code",
   "execution_count": 59,
   "metadata": {
    "ExecuteTime": {
     "end_time": "2017-06-14T12:20:49.250548Z",
     "start_time": "2017-06-14T12:20:49.247018Z"
    }
   },
   "outputs": [
    {
     "data": {
      "text/plain": [
       "'CAGGTGCAGCTGCAGGAGTCGGGCCCAGGACTGGTGAAGCCTTCGGAGACCCTGTCCCTCACCTGCACTGTCTCTGGTGGCTCCATCAGTAGTTACTACTGGAGCTGGATCCGGCAGCCCGCCGGGAAGGGACTGGAGTGGATTGGGCGTATCTATACCAGTGGGAGCACCAACTACAACCCCTCCCTCAAGAGTCGAGTCACCATGTCAGTAGACACGTCCAAGAACCAGTTCTCCCTGAAGCTGAGCTCTGTGACCGCCGCGGACACGGCCGTGTATTACTGTGCGAGAGA'"
      ]
     },
     "execution_count": 59,
     "metadata": {},
     "output_type": "execute_result"
    }
   ],
   "source": [
    "ighv_407"
   ]
  },
  {
   "cell_type": "code",
   "execution_count": 60,
   "metadata": {
    "ExecuteTime": {
     "end_time": "2017-06-14T12:20:52.433988Z",
     "start_time": "2017-06-14T12:20:52.394064Z"
    }
   },
   "outputs": [
    {
     "data": {
      "text/plain": [
       "True"
      ]
     },
     "execution_count": 60,
     "metadata": {},
     "output_type": "execute_result"
    }
   ],
   "source": [
    "ighv_407 == gene_index_1"
   ]
  },
  {
   "cell_type": "code",
   "execution_count": 61,
   "metadata": {
    "ExecuteTime": {
     "end_time": "2017-06-14T12:21:31.026325Z",
     "start_time": "2017-06-14T12:21:30.987585Z"
    }
   },
   "outputs": [
    {
     "data": {
      "text/plain": [
       "False"
      ]
     },
     "execution_count": 61,
     "metadata": {},
     "output_type": "execute_result"
    }
   ],
   "source": [
    "ighv_407 == read_cluster_0"
   ]
  },
  {
   "cell_type": "code",
   "execution_count": 62,
   "metadata": {
    "ExecuteTime": {
     "end_time": "2017-06-14T12:22:41.874619Z",
     "start_time": "2017-06-14T12:22:41.840524Z"
    },
    "collapsed": true
   },
   "outputs": [],
   "source": [
    "cluster_0_j = 'GACTACTGGGGCCAGGGAACCCTGGTCACCGTCTCCTCAG'"
   ]
  },
  {
   "cell_type": "code",
   "execution_count": 63,
   "metadata": {
    "ExecuteTime": {
     "end_time": "2017-06-14T12:22:47.090685Z",
     "start_time": "2017-06-14T12:22:47.041228Z"
    }
   },
   "outputs": [
    {
     "data": {
      "text/plain": [
       "40"
      ]
     },
     "execution_count": 63,
     "metadata": {},
     "output_type": "execute_result"
    }
   ],
   "source": [
    "len(cluster_0_j)"
   ]
  },
  {
   "cell_type": "code",
   "execution_count": 65,
   "metadata": {
    "ExecuteTime": {
     "end_time": "2017-06-14T12:23:24.111469Z",
     "start_time": "2017-06-14T12:23:24.026633Z"
    }
   },
   "outputs": [
    {
     "data": {
      "text/plain": [
       "35"
      ]
     },
     "execution_count": 65,
     "metadata": {},
     "output_type": "execute_result"
    }
   ],
   "source": [
    "len(a) - len(read_cluster_0) - len(cluster_0_j)"
   ]
  },
  {
   "cell_type": "code",
   "execution_count": 66,
   "metadata": {
    "ExecuteTime": {
     "end_time": "2017-06-14T12:28:05.648597Z",
     "start_time": "2017-06-14T12:28:05.587664Z"
    }
   },
   "outputs": [
    {
     "data": {
      "text/plain": [
       "328"
      ]
     },
     "execution_count": 66,
     "metadata": {},
     "output_type": "execute_result"
    }
   ],
   "source": [
    "a.find(cluster_0_j)"
   ]
  },
  {
   "cell_type": "code",
   "execution_count": 67,
   "metadata": {
    "ExecuteTime": {
     "end_time": "2017-06-14T12:28:24.749225Z",
     "start_time": "2017-06-14T12:28:24.688567Z"
    }
   },
   "outputs": [
    {
     "data": {
      "text/plain": [
       "'GTGACTCTG'"
      ]
     },
     "execution_count": 67,
     "metadata": {},
     "output_type": "execute_result"
    }
   ],
   "source": [
    "a[319:328]"
   ]
  },
  {
   "cell_type": "code",
   "execution_count": 68,
   "metadata": {
    "ExecuteTime": {
     "end_time": "2017-06-14T15:03:33.857372Z",
     "start_time": "2017-06-14T15:03:33.807319Z"
    }
   },
   "outputs": [
    {
     "data": {
      "text/plain": [
       "48"
      ]
     },
     "execution_count": 68,
     "metadata": {},
     "output_type": "execute_result"
    }
   ],
   "source": [
    "len('ACTACTTTGACTACTGGGGCCAGGGAACCCTGGTCACCGTCTCCTCAG')"
   ]
  },
  {
   "cell_type": "code",
   "execution_count": null,
   "metadata": {
    "collapsed": true
   },
   "outputs": [],
   "source": []
  }
 ],
 "metadata": {
  "kernelspec": {
   "display_name": "Coconut (Python 3)",
   "language": "coconut",
   "name": "coconut3"
  },
  "language_info": {
   "codemirror_mode": {
    "name": "python",
    "version": 3.6
   },
   "file_extension": ".coco",
   "mimetype": "text/x-python3",
   "name": "coconut",
   "pygments_lexer": "coconut"
  }
 },
 "nbformat": 4,
 "nbformat_minor": 2
}
