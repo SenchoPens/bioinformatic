{
 "cells": [
  {
   "cell_type": "code",
   "execution_count": 1,
   "metadata": {
    "ExecuteTime": {
     "end_time": "2017-06-17T08:06:25.364883Z",
     "start_time": "2017-06-17T08:06:22.458195Z"
    },
    "collapsed": true,
    "hide_input": false
   },
   "outputs": [],
   "source": [
    "from pathlib import Path\n",
    "from collections import Counter, defaultdict\n",
    "from copy import deepcopy\n",
    "from pickle import dump\n",
    "from itertools import combinations, permutations, groupby\n",
    "from pprint import pprint\n",
    "import matplotlib.pyplot as plt\n",
    "\n",
    "from tqdm import tqdm\n",
    "\n",
    "from vdj_walker import *\n",
    "from sequence import Sequence\n",
    "\n",
    "%matplotlib inline"
   ]
  },
  {
   "cell_type": "code",
   "execution_count": 3,
   "metadata": {
    "ExecuteTime": {
     "end_time": "2017-06-17T08:06:56.056730Z",
     "start_time": "2017-06-17T08:06:55.974191Z"
    },
    "collapsed": true
   },
   "outputs": [],
   "source": [
    "data D(gene, J_gene, V_gene)\n",
    "data Comb(gene, length)\n",
    "data DGene(read, gene)\n",
    "data DRead(read, J_gene, V_gene)\n",
    "data DIndexRead(read, J_gene, V_gene, dataset)\n",
    "data Kmer(kmer, read)"
   ]
  },
  {
   "cell_type": "code",
   "execution_count": 4,
   "metadata": {
    "ExecuteTime": {
     "end_time": "2017-06-17T08:06:56.369371Z",
     "start_time": "2017-06-17T08:06:56.271613Z"
    },
    "collapsed": true,
    "hide_input": false
   },
   "outputs": [],
   "source": [
    "def get_fa_header_value(line, *, index):\n",
    "    return line.split('|')[index].split(':')[1]"
   ]
  },
  {
   "cell_type": "code",
   "execution_count": 5,
   "metadata": {
    "ExecuteTime": {
     "end_time": "2017-06-17T08:06:57.153411Z",
     "start_time": "2017-06-17T08:06:56.948082Z"
    },
    "collapsed": true,
    "hide_input": false
   },
   "outputs": [],
   "source": [
    "def read_fa(file):\n",
    "    next(file)  # skip first '>'\n",
    "    read = ''\n",
    "    for line in file:\n",
    "        if line.startswith('>'):\n",
    "            yield read\n",
    "            read = ''\n",
    "            continue\n",
    "        read += line"
   ]
  },
  {
   "cell_type": "code",
   "execution_count": 8,
   "metadata": {
    "ExecuteTime": {
     "end_time": "2017-06-17T08:27:27.913066Z",
     "start_time": "2017-06-17T08:27:27.325057Z"
    },
    "hide_input": false
   },
   "outputs": [
    {
     "data": {
      "text/plain": [
       "Comb(gene='IGHJ6*03', length=57)"
      ]
     },
     "execution_count": 8,
     "metadata": {},
     "output_type": "execute_result"
    }
   ],
   "source": [
    "def read_comb(file):  #ToDo: consume read right!\n",
    "    try:\n",
    "        while True:\n",
    "            next(file)\n",
    "            length = next(file).strip('-').strip() |> len\n",
    "            gene = next(file) |> get_fa_header_value$(?, index=1)\n",
    "            next(file)\n",
    "            yield Comb(gene, length)\n",
    "    except StopIteration:\n",
    "        print('hi')\n",
    "        return\n",
    "    \n",
    "vdj_dir_iter()$[0] / 'j_alignments.fa' |> open |> read_comb |> .$[1234]"
   ]
  },
  {
   "cell_type": "code",
   "execution_count": 7,
   "metadata": {
    "ExecuteTime": {
     "end_time": "2017-06-17T06:49:54.905710Z",
     "start_time": "2017-06-17T06:49:54.621936Z"
    },
    "collapsed": true,
    "hide_input": false
   },
   "outputs": [],
   "source": [
    "def read_genes(file):\n",
    "    try:\n",
    "        while True:\n",
    "            gene = next(file)[1:].strip()\n",
    "            read = next(file).upper().strip()\n",
    "            yield DGene(read, gene)\n",
    "    except StopIteration:\n",
    "        return"
   ]
  },
  {
   "cell_type": "code",
   "execution_count": 10,
   "metadata": {
    "ExecuteTime": {
     "end_time": "2017-06-17T09:06:48.939991Z",
     "start_time": "2017-06-17T09:06:48.511025Z"
    },
    "hide_input": false
   },
   "outputs": [
    {
     "data": {
      "text/plain": [
       "Comb(gene='IGHV1-2*02', length=295)"
      ]
     },
     "execution_count": 10,
     "metadata": {},
     "output_type": "execute_result"
    }
   ],
   "source": [
    "def read_V_headers(file):\n",
    "    length = 0\n",
    "    for line in file:\n",
    "        if line.startswith('>'):\n",
    "            if 'READ' in line:\n",
    "                length = get_fa_header_value(line, index=3) |> int\n",
    "            elif 'GENE' in line:\n",
    "                gene = get_fa_header_value(line, index=1)\n",
    "                yield Comb(gene, length)\n",
    "\n",
    "vdj_dir_iter()$[0] / 'v_alignments.fa' |> open |> read_V_headers |> .$[500]"
   ]
  },
  {
   "cell_type": "code",
   "execution_count": 11,
   "metadata": {
    "ExecuteTime": {
     "end_time": "2017-06-17T06:50:22.602750Z",
     "start_time": "2017-06-17T06:50:22.564913Z"
    },
    "collapsed": true,
    "hide_input": false
   },
   "outputs": [],
   "source": [
    "Ds = open(gene_dir / 'IGHD-allP.fa', 'r') |> read_genes |> list"
   ]
  },
  {
   "cell_type": "code",
   "execution_count": 21,
   "metadata": {
    "ExecuteTime": {
     "end_time": "2017-06-17T06:52:24.559540Z",
     "start_time": "2017-06-17T06:52:24.398528Z"
    },
    "collapsed": true,
    "hide_input": false
   },
   "outputs": [],
   "source": [
    "ds_kmers = set()\n",
    "for i in Ds:\n",
    "    for kmer in split_kmers(i.read, 7):\n",
    "        ds_kmers.add(kmer)"
   ]
  },
  {
   "cell_type": "code",
   "execution_count": 12,
   "metadata": {
    "ExecuteTime": {
     "end_time": "2017-06-17T06:50:24.604007Z",
     "start_time": "2017-06-17T06:50:24.472292Z"
    },
    "hide_input": true
   },
   "outputs": [
    {
     "name": "stdout",
     "output_type": "stream",
     "text": [
      "17\n"
     ]
    }
   ],
   "source": [
    "Ds\n",
    "print(Sequence('GGTACAACTGGAACGAC', 'GGTACAACTGGAACGAC').make_lightweight_matrix())"
   ]
  },
  {
   "cell_type": "code",
   "execution_count": 13,
   "metadata": {
    "ExecuteTime": {
     "end_time": "2017-06-17T06:50:26.214737Z",
     "start_time": "2017-06-17T06:50:25.839714Z"
    },
    "collapsed": true
   },
   "outputs": [],
   "source": [
    "def fetch_d(vdj_dir: Path, i):\n",
    "    clean_reads = open(vdj_dir / 'cleaned_reads.fasta', 'r') |> read_fa\n",
    "    Js = open(vdj_dir / 'j_alignments.fa') |> read_comb\n",
    "    Vs = open(vdj_dir / 'v_alignments.fa') |> read_V_headers\n",
    "    \n",
    "    for read, j, v in zip(clean_reads, Js, Vs):\n",
    "        d_read = read[v.length : (len(read) - j.length)]\n",
    "        yield DIndexRead(d_read, j.gene, v.gene, i)"
   ]
  },
  {
   "cell_type": "code",
   "execution_count": 14,
   "metadata": {
    "ExecuteTime": {
     "end_time": "2017-06-17T06:50:26.496340Z",
     "start_time": "2017-06-17T06:50:26.384448Z"
    },
    "collapsed": true
   },
   "outputs": [],
   "source": [
    "def split_kmers(read, size):\n",
    "    for i in range(len(read) - size + 1):\n",
    "        yield read[i : i + size]"
   ]
  },
  {
   "cell_type": "code",
   "execution_count": 15,
   "metadata": {
    "ExecuteTime": {
     "end_time": "2017-06-17T06:50:42.446803Z",
     "start_time": "2017-06-17T06:50:32.212929Z"
    }
   },
   "outputs": [
    {
     "name": "stdout",
     "output_type": "stream",
     "text": [
      "/home/sencho/Projects/bio/vdj_data/rep_seq/Dnr/155/igr/vjf\n",
      "/home/sencho/Projects/bio/vdj_data/rep_seq/Dnr/157/igr/vjf\n",
      "/home/sencho/Projects/bio/vdj_data/rep_seq/Dnr/162/igr/vjf\n",
      "/home/sencho/Projects/bio/vdj_data/rep_seq/Dnr/163/igr/vjf\n",
      "/home/sencho/Projects/bio/vdj_data/rep_seq/Dnr/4/igr/vjf\n",
      "/home/sencho/Projects/bio/vdj_data/rep_seq/Dnr/5/igr/vjf\n",
      "/home/sencho/Projects/bio/vdj_data/rep_seq/Dnr/6/igr/vjf\n",
      "/home/sencho/Projects/bio/vdj_data/rep_seq/Dnr/8/igr/vjf\n",
      "/home/sencho/Projects/bio/vdj_data/rep_seq/Twins/01A/igr/vjf\n",
      "hi\n",
      "/home/sencho/Projects/bio/vdj_data/rep_seq/Twins/01B/igr/vjf\n",
      "hi\n",
      "/home/sencho/Projects/bio/vdj_data/rep_seq/Twins/02A/igr/vjf\n",
      "/home/sencho/Projects/bio/vdj_data/rep_seq/Twins/02B/igr/vjf\n",
      "hi\n",
      "/home/sencho/Projects/bio/vdj_data/rep_seq/Twins/03A/igr/vjf\n",
      "hi\n",
      "/home/sencho/Projects/bio/vdj_data/rep_seq/Twins/03B/igr/vjf\n",
      "hi\n",
      "/home/sencho/Projects/bio/vdj_data/rep_seq/Twins/04A/igr/vjf\n",
      "hi\n",
      "/home/sencho/Projects/bio/vdj_data/rep_seq/Twins/04B/igr/vjf\n",
      "hi\n",
      "/home/sencho/Projects/bio/vdj_data/rep_seq/Twins/05A/igr/vjf\n",
      "hi\n",
      "/home/sencho/Projects/bio/vdj_data/rep_seq/Twins/05B/igr/vjf\n",
      "hi\n",
      "HELOOOOOOO\n"
     ]
    },
    {
     "data": {
      "text/plain": [
       "249127"
      ]
     },
     "execution_count": 15,
     "metadata": {},
     "output_type": "execute_result"
    }
   ],
   "source": [
    "# for task 3\n",
    "raw_reads = Counter()\n",
    "for i, vdj_dir in enumerate(vdj_dir_iter()):\n",
    "    print(vdj_dir)\n",
    "    for d in fetch_d(vdj_dir, i):\n",
    "        raw_reads[d] += 1\n",
    "    last_compiled = i, vdj_dir\n",
    "\n",
    "print('HELOOOOOOO')\n",
    "len(raw_reads)"
   ]
  },
  {
   "cell_type": "code",
   "execution_count": 16,
   "metadata": {
    "ExecuteTime": {
     "end_time": "2017-06-17T06:50:56.702778Z",
     "start_time": "2017-06-17T06:50:56.394926Z"
    }
   },
   "outputs": [
    {
     "data": {
      "text/plain": [
       "1250"
      ]
     },
     "execution_count": 16,
     "metadata": {},
     "output_type": "execute_result"
    }
   ],
   "source": [
    "vj_pairs = Counter()\n",
    "for read, n in raw_reads.items():\n",
    "    np = n // 15\n",
    "    if np > 0:\n",
    "        vj_pairs[read] = np\n",
    "\n",
    "len(vj_pairs)"
   ]
  },
  {
   "cell_type": "code",
   "execution_count": 52,
   "metadata": {
    "ExecuteTime": {
     "end_time": "2017-06-17T07:22:54.518566Z",
     "start_time": "2017-06-17T07:22:54.317608Z"
    }
   },
   "outputs": [
    {
     "data": {
      "text/plain": [
       "22008"
      ]
     },
     "execution_count": 52,
     "metadata": {},
     "output_type": "execute_result"
    }
   ],
   "source": [
    "id_kmers = Counter()\n",
    "for id_read, n in vj_pairs.items():\n",
    "    for kmer_read in split_kmers(id_read.read, 7):\n",
    "        id_kmers[Kmer(kmer_read, id_read)\n",
    "                ] = n\n",
    "len(id_kmers)"
   ]
  },
  {
   "cell_type": "code",
   "execution_count": 53,
   "metadata": {
    "ExecuteTime": {
     "end_time": "2017-06-17T07:23:13.890920Z",
     "start_time": "2017-06-17T07:23:13.639688Z"
    }
   },
   "outputs": [
    {
     "data": {
      "text/plain": [
       "14896"
      ]
     },
     "execution_count": 53,
     "metadata": {},
     "output_type": "execute_result"
    }
   ],
   "source": [
    "unique_id_kmers = Counter({k: v for k, v in id_kmers.items() \n",
    "                           if k.kmer not in ds_kmers})\n",
    "len(unique_id_kmers)"
   ]
  },
  {
   "cell_type": "code",
   "execution_count": 23,
   "metadata": {
    "ExecuteTime": {
     "end_time": "2017-06-17T06:52:37.879679Z",
     "start_time": "2017-06-17T06:52:37.408987Z"
    },
    "collapsed": true
   },
   "outputs": [],
   "source": [
    "def ys(xs):\n",
    "    for i in xs:\n",
    "        yield i[1]\n",
    "def colors(xs):\n",
    "    for i in xs:\n",
    "        r = i[0]\n",
    "        #print(r)\n",
    "        if r in unique_id_kmers:\n",
    "            yield 'r'\n",
    "        else:\n",
    "            yield 'b'\n",
    "def util_x(kmers):\n",
    "    for i, (kmer, n) in enumerate(kmers):\n",
    "        if kmer in unique_id_kmers:\n",
    "            yield i, (kmer, n)\n",
    "def unique_plot_y(xs):\n",
    "    for i, (_, n) in xs:\n",
    "        yield n\n",
    "def unique_plot_x(xs):\n",
    "    for i, info in xs:\n",
    "        yield i"
   ]
  },
  {
   "cell_type": "code",
   "execution_count": 54,
   "metadata": {
    "ExecuteTime": {
     "end_time": "2017-06-17T07:23:23.927232Z",
     "start_time": "2017-06-17T07:23:23.915129Z"
    },
    "collapsed": true
   },
   "outputs": [],
   "source": [
    "common_kmers = id_kmers.most_common()[::-1]"
   ]
  },
  {
   "cell_type": "code",
   "execution_count": 131,
   "metadata": {
    "ExecuteTime": {
     "end_time": "2017-06-16T14:13:06.835775Z",
     "start_time": "2017-06-16T14:13:06.822613Z"
    },
    "collapsed": true
   },
   "outputs": [],
   "source": [
    "dot_xu = util_x(common_kmers) |> list"
   ]
  },
  {
   "cell_type": "code",
   "execution_count": 177,
   "metadata": {
    "ExecuteTime": {
     "end_time": "2017-06-16T14:44:06.698643Z",
     "start_time": "2017-06-16T14:44:05.214748Z"
    },
    "scrolled": true
   },
   "outputs": [
    {
     "data": {
      "image/png": "[encoded data removed]",
      "text/plain": [
       "<matplotlib.figure.Figure at 0x7f7caa8e4748>"
      ]
     },
     "metadata": {},
     "output_type": "display_data"
    }
   ],
   "source": [
    "plt.figure(figsize=(16, 16))\n",
    "\n",
    "plt.scatter(\n",
    "    range(len(common_kmers)),\n",
    "    ys(common_kmers) |> list,\n",
    "    c=colors(common_kmers) |> list,\n",
    "    s=220\n",
    ")\n",
    "\"\"\"\n",
    "plt.scatter(\n",
    "    unique_plot_x(dot_xu) |> list,\n",
    "    unique_plot_y(dot_xu) |> list,\n",
    "    s = 10,\n",
    "    color='r'\n",
    ")\n",
    "\"\"\"\n",
    "plt.show()"
   ]
  },
  {
   "cell_type": "code",
   "execution_count": 55,
   "metadata": {
    "ExecuteTime": {
     "end_time": "2017-06-17T07:23:27.196892Z",
     "start_time": "2017-06-17T07:23:26.704017Z"
    },
    "scrolled": false
   },
   "outputs": [
    {
     "data": {
      "text/plain": [
       "<matplotlib.legend.Legend at 0x7f3f090d86d8>"
      ]
     },
     "execution_count": 55,
     "metadata": {},
     "output_type": "execute_result"
    },
    {
     "data": {
      "image/png": "[encoded data removed]",
      "text/plain": [
       "<matplotlib.figure.Figure at 0x7f3f068f6278>"
      ]
     },
     "metadata": {},
     "output_type": "display_data"
    }
   ],
   "source": [
    "vdj_plot = plt.figure(figsize=(16, 16))\n",
    "\n",
    "def all_kmers():\n",
    "    for q, i in common_kmers:\n",
    "        yield i\n",
    "        \n",
    "def unique_kmers():\n",
    "    for q, i in common_kmers:\n",
    "        if q in unique_id_kmers:\n",
    "            yield i\n",
    "\n",
    "all_ = plt.hist(all_kmers() |> list, 40, alpha=1, color='b', label='Found in D')\n",
    "unique_ = plt.hist(unique_kmers() |> list, 40, alpha=1, color='r', label='Not found in D')\n",
    "plt.xlabel('Pairs', fontsize=20)\n",
    "plt.ylabel('Reads', fontsize=20)\n",
    "#plt.legend(handles=[all_, unique_])\n",
    "plt.legend(fontsize=20)"
   ]
  },
  {
   "cell_type": "code",
   "execution_count": 49,
   "metadata": {
    "ExecuteTime": {
     "end_time": "2017-06-17T07:14:51.519437Z",
     "start_time": "2017-06-17T07:14:51.301478Z"
    },
    "collapsed": true
   },
   "outputs": [],
   "source": [
    "vdj_plot.savefig('vdj_kmers.png')"
   ]
  },
  {
   "cell_type": "code",
   "execution_count": null,
   "metadata": {
    "collapsed": true
   },
   "outputs": [],
   "source": [
    "cool = "
   ]
  },
  {
   "cell_type": "code",
   "execution_count": 14,
   "metadata": {
    "ExecuteTime": {
     "end_time": "2017-06-16T10:37:06.332877Z",
     "start_time": "2017-06-16T10:36:46.870998Z"
    },
    "hide_input": false,
    "scrolled": false
   },
   "outputs": [
    {
     "name": "stdout",
     "output_type": "stream",
     "text": [
      "/home/sencho/Projects/bio/vdj_data/rep_seq/Dnr/155/igr/vjf\n",
      "/home/sencho/Projects/bio/vdj_data/rep_seq/Dnr/157/igr/vjf\n",
      "/home/sencho/Projects/bio/vdj_data/rep_seq/Dnr/162/igr/vjf\n",
      "/home/sencho/Projects/bio/vdj_data/rep_seq/Dnr/163/igr/vjf\n",
      "/home/sencho/Projects/bio/vdj_data/rep_seq/Dnr/4/igr/vjf\n",
      "/home/sencho/Projects/bio/vdj_data/rep_seq/Dnr/5/igr/vjf\n",
      "/home/sencho/Projects/bio/vdj_data/rep_seq/Dnr/6/igr/vjf\n",
      "/home/sencho/Projects/bio/vdj_data/rep_seq/Dnr/8/igr/vjf\n",
      "/home/sencho/Projects/bio/vdj_data/rep_seq/Twins/01A/igr/vjf\n",
      "hi\n",
      "/home/sencho/Projects/bio/vdj_data/rep_seq/Twins/01B/igr/vjf\n",
      "hi\n",
      "/home/sencho/Projects/bio/vdj_data/rep_seq/Twins/02A/igr/vjf\n",
      "/home/sencho/Projects/bio/vdj_data/rep_seq/Twins/02B/igr/vjf\n",
      "hi\n",
      "/home/sencho/Projects/bio/vdj_data/rep_seq/Twins/03A/igr/vjf\n",
      "hi\n",
      "/home/sencho/Projects/bio/vdj_data/rep_seq/Twins/03B/igr/vjf\n",
      "hi\n",
      "/home/sencho/Projects/bio/vdj_data/rep_seq/Twins/04A/igr/vjf\n",
      "hi\n",
      "/home/sencho/Projects/bio/vdj_data/rep_seq/Twins/04B/igr/vjf\n",
      "hi\n",
      "/home/sencho/Projects/bio/vdj_data/rep_seq/Twins/05A/igr/vjf\n",
      "hi\n",
      "/home/sencho/Projects/bio/vdj_data/rep_seq/Twins/05B/igr/vjf\n",
      "hi\n",
      "HELOOOOOOO\n"
     ]
    },
    {
     "data": {
      "text/plain": [
       "16564"
      ]
     },
     "execution_count": 14,
     "metadata": {},
     "output_type": "execute_result"
    }
   ],
   "source": [
    "# for task 2\n",
    "kmers = defaultdict(set)\n",
    "kmers_q = Counter()\n",
    "for i, vdj_dir in enumerate(vdj_dir_iter()):\n",
    "    print(vdj_dir)\n",
    "    for d in fetch_d(vdj_dir):  # doesn't work anymore\n",
    "        #print(d)\n",
    "        for kmer in split_kmers(d.read, 7):\n",
    "            kmers_q[kmer] += 1\n",
    "            kmers[kmer].add(d)\n",
    "    last_compiled = i, vdj_dir\n",
    "\n",
    "print('HELOOOOOOO')\n",
    "len(kmers)"
   ]
  },
  {
   "cell_type": "code",
   "execution_count": null,
   "metadata": {
    "ExecuteTime": {
     "end_time": "2017-06-15T07:20:09.792014Z",
     "start_time": "2017-06-15T07:20:06.285819Z"
    },
    "code_folding": [],
    "collapsed": true,
    "hide_input": false,
    "scrolled": true
   },
   "outputs": [],
   "source": [
    "# for first task\n",
    "d_genes = Counter()\n",
    "for i, vdj_dir in enumerate(vdj_dir_iter()$[:1]):\n",
    "    print(vdj_dir)\n",
    "    for d in fetch_d(vdj_dir):  # dont work anymore\n",
    "        d_genes[d] += 1\n",
    "    last_compiled = i, vdj_dir"
   ]
  },
  {
   "cell_type": "code",
   "execution_count": null,
   "metadata": {
    "ExecuteTime": {
     "end_time": "2017-06-14T20:28:55.155025Z",
     "start_time": "2017-06-14T20:28:54.997540Z"
    },
    "collapsed": true,
    "hide_input": false
   },
   "outputs": [],
   "source": [
    "# for first task\n",
    "gene_iter = ((Sequence(d.read, chosen_d_read).make_lightweight_matrix(), d) for d in Ds)\n",
    "gene = max(gene_iter, key=.[0])[1]\n",
    "print(gene)\n",
    "gene = gene.gene"
   ]
  },
  {
   "cell_type": "code",
   "execution_count": 17,
   "metadata": {
    "ExecuteTime": {
     "end_time": "2017-06-16T10:37:07.173703Z",
     "start_time": "2017-06-16T10:37:06.575248Z"
    },
    "collapsed": true,
    "hide_input": true
   },
   "outputs": [],
   "source": [
    "check = 0\n",
    "dn = 0\n",
    "for d in vdj_dir_iter():\n",
    "    dn += 1\n",
    "    for l in read_fa(open(d / 'cleaned_reads.fasta')):\n",
    "        check += 1"
   ]
  },
  {
   "cell_type": "code",
   "execution_count": 18,
   "metadata": {
    "ExecuteTime": {
     "end_time": "2017-06-16T10:37:07.618239Z",
     "start_time": "2017-06-16T10:37:07.175448Z"
    },
    "hide_input": true
   },
   "outputs": [
    {
     "data": {
      "text/plain": [
       "185233.5"
      ]
     },
     "execution_count": 18,
     "metadata": {},
     "output_type": "execute_result"
    }
   ],
   "source": [
    "check / 2"
   ]
  },
  {
   "cell_type": "code",
   "execution_count": 19,
   "metadata": {
    "ExecuteTime": {
     "end_time": "2017-06-16T10:37:07.691290Z",
     "start_time": "2017-06-16T10:37:07.619909Z"
    },
    "hide_input": true
   },
   "outputs": [
    {
     "data": {
      "text/plain": [
       "18"
      ]
     },
     "execution_count": 19,
     "metadata": {},
     "output_type": "execute_result"
    }
   ],
   "source": [
    "dn"
   ]
  },
  {
   "cell_type": "code",
   "execution_count": 21,
   "metadata": {
    "ExecuteTime": {
     "end_time": "2017-06-16T10:37:08.120185Z",
     "start_time": "2017-06-16T10:37:07.965268Z"
    },
    "scrolled": true
   },
   "outputs": [
    {
     "data": {
      "text/plain": [
       "221"
      ]
     },
     "execution_count": 21,
     "metadata": {},
     "output_type": "execute_result"
    }
   ],
   "source": [
    "unique = {key: kmers[key] for key, val in kmers_q.items()\n",
    "          if val >= 2000 and key not in ds_kmers}\n",
    "len(unique)"
   ]
  },
  {
   "cell_type": "code",
   "execution_count": 22,
   "metadata": {
    "ExecuteTime": {
     "end_time": "2017-06-16T10:37:33.389886Z",
     "start_time": "2017-06-16T10:37:33.168149Z"
    }
   },
   "outputs": [
    {
     "data": {
      "text/plain": [
       "384659"
      ]
     },
     "execution_count": 22,
     "metadata": {},
     "output_type": "execute_result"
    }
   ],
   "source": [
    "n = 0\n",
    "for v in unique.values():\n",
    "    for a in v:\n",
    "        n += 1\n",
    "n"
   ]
  },
  {
   "cell_type": "code",
   "execution_count": 80,
   "metadata": {
    "ExecuteTime": {
     "end_time": "2017-06-16T10:58:40.049081Z",
     "start_time": "2017-06-16T10:58:39.425653Z"
    }
   },
   "outputs": [
    {
     "data": {
      "text/plain": [
       "147406"
      ]
     },
     "execution_count": 80,
     "metadata": {},
     "output_type": "execute_result"
    }
   ],
   "source": [
    "read_kmers = defaultdict(set)\n",
    "for kmer, reads in unique.items():\n",
    "    for read in reads:\n",
    "        read_kmers[read].add(kmer)\n",
    "len(read_kmers)"
   ]
  },
  {
   "cell_type": "code",
   "execution_count": 81,
   "metadata": {
    "ExecuteTime": {
     "end_time": "2017-06-16T10:58:40.113585Z",
     "start_time": "2017-06-16T10:58:40.050675Z"
    }
   },
   "outputs": [
    {
     "data": {
      "text/plain": [
       "13471"
      ]
     },
     "execution_count": 81,
     "metadata": {},
     "output_type": "execute_result"
    }
   ],
   "source": [
    "read_kmers = filter((x)->len(x[1]) > 5, read_kmers.items()) |> dict\n",
    "len(read_kmers)"
   ]
  },
  {
   "cell_type": "code",
   "execution_count": 82,
   "metadata": {
    "ExecuteTime": {
     "end_time": "2017-06-16T10:58:40.191429Z",
     "start_time": "2017-06-16T10:58:40.161058Z"
    }
   },
   "outputs": [
    {
     "data": {
      "text/plain": [
       "11767"
      ]
     },
     "execution_count": 82,
     "metadata": {},
     "output_type": "execute_result"
    }
   ],
   "source": [
    "read_counter = Counter()\n",
    "for read in read_kmers.keys():\n",
    "    read_counter[read.read] += 1\n",
    "len(read_counter)"
   ]
  },
  {
   "cell_type": "code",
   "execution_count": 83,
   "metadata": {
    "ExecuteTime": {
     "end_time": "2017-06-16T10:58:41.756682Z",
     "start_time": "2017-06-16T10:58:41.750674Z"
    }
   },
   "outputs": [
    {
     "data": {
      "text/plain": [
       "828"
      ]
     },
     "execution_count": 83,
     "metadata": {},
     "output_type": "execute_result"
    }
   ],
   "source": [
    "read_counter = {k: v for k,v in read_counter.items() if v > 1}\n",
    "len(read_counter)"
   ]
  },
  {
   "cell_type": "code",
   "execution_count": 84,
   "metadata": {
    "ExecuteTime": {
     "end_time": "2017-06-16T10:58:42.134630Z",
     "start_time": "2017-06-16T10:58:42.119974Z"
    }
   },
   "outputs": [
    {
     "data": {
      "text/plain": [
       "2532"
      ]
     },
     "execution_count": 84,
     "metadata": {},
     "output_type": "execute_result"
    }
   ],
   "source": [
    "read_kmers = {k: v for k, v in read_kmers.items() if k.read in read_counter}\n",
    "len(read_kmers)"
   ]
  },
  {
   "cell_type": "code",
   "execution_count": 30,
   "metadata": {
    "ExecuteTime": {
     "end_time": "2017-06-16T10:40:17.029216Z",
     "start_time": "2017-06-16T10:40:16.794509Z"
    },
    "collapsed": true
   },
   "outputs": [],
   "source": [
    "def join_neighbors(k1, k2, s):\n",
    "    mlen = min(len(k1), len(k2))\n",
    "    p1 = k1[len(k1) - mlen + s:]\n",
    "    p2 = k2[:mlen - s]\n",
    "    if p1 == p2:\n",
    "        return k1 + k2[mlen - s:]\n",
    "    return False"
   ]
  },
  {
   "cell_type": "code",
   "execution_count": 31,
   "metadata": {
    "ExecuteTime": {
     "end_time": "2017-06-16T10:40:17.671929Z",
     "start_time": "2017-06-16T10:40:17.393443Z"
    },
    "collapsed": true
   },
   "outputs": [],
   "source": [
    "def join_all_neighbors(kmers, s=1):\n",
    "    for k1, k2 in permutations(kmers, r=2):\n",
    "        t = join_neighbors(k1, k2, 1)\n",
    "        if t:\n",
    "            new_kmers = kmers - set((k1, k2))\n",
    "            new_kmers.add(t)\n",
    "            return join_all_neighbors(new_kmers, s=s)  # tail recursion opt, so no worry\n",
    "    return kmers"
   ]
  },
  {
   "cell_type": "code",
   "execution_count": 33,
   "metadata": {
    "ExecuteTime": {
     "end_time": "2017-06-16T10:40:27.565144Z",
     "start_time": "2017-06-16T10:40:27.490654Z"
    }
   },
   "outputs": [
    {
     "data": {
      "text/plain": [
       "'BAAACB'"
      ]
     },
     "execution_count": 33,
     "metadata": {},
     "output_type": "execute_result"
    }
   ],
   "source": [
    "join_neighbors('BAAAC', 'AAACB', s=1)"
   ]
  },
  {
   "cell_type": "code",
   "execution_count": 34,
   "metadata": {
    "ExecuteTime": {
     "end_time": "2017-06-16T10:40:31.167976Z",
     "start_time": "2017-06-16T10:40:31.074019Z"
    },
    "collapsed": true
   },
   "outputs": [],
   "source": [
    "def read_kmers_iter(read_kmers):\n",
    "    for kmers in read_kmers.values():\n",
    "        yield from kmers"
   ]
  },
  {
   "cell_type": "code",
   "execution_count": 35,
   "metadata": {
    "ExecuteTime": {
     "end_time": "2017-06-16T10:40:31.890032Z",
     "start_time": "2017-06-16T10:40:31.761674Z"
    },
    "collapsed": true
   },
   "outputs": [],
   "source": [
    "def count_kmers(read_kmers):\n",
    "    n = 0\n",
    "    for kmer in read_kmers_iter(read_kmers):\n",
    "        n += 1\n",
    "    return n"
   ]
  },
  {
   "cell_type": "code",
   "execution_count": 85,
   "metadata": {
    "ExecuteTime": {
     "end_time": "2017-06-16T10:59:00.810877Z",
     "start_time": "2017-06-16T10:59:00.356173Z"
    },
    "collapsed": true
   },
   "outputs": [],
   "source": [
    "read_kmers_clear = deepcopy(read_kmers)"
   ]
  },
  {
   "cell_type": "code",
   "execution_count": null,
   "metadata": {
    "collapsed": true
   },
   "outputs": [],
   "source": [
    "read_kmers = read_kmers_clear"
   ]
  },
  {
   "cell_type": "code",
   "execution_count": 87,
   "metadata": {
    "ExecuteTime": {
     "end_time": "2017-06-16T11:00:42.957827Z",
     "start_time": "2017-06-16T11:00:42.741379Z"
    }
   },
   "outputs": [
    {
     "name": "stdout",
     "output_type": "stream",
     "text": [
      "21586\n",
      "18233\n"
     ]
    }
   ],
   "source": [
    "count_kmers(read_kmers) |> print\n",
    "read_kmers = {read: join_all_neighbors(kmers, s=1) for read, kmers in read_kmers.items()}\n",
    "count_kmers(read_kmers) |> print"
   ]
  },
  {
   "cell_type": "code",
   "execution_count": 45,
   "metadata": {
    "ExecuteTime": {
     "end_time": "2017-06-16T10:53:35.364965Z",
     "start_time": "2017-06-16T10:53:35.302477Z"
    }
   },
   "outputs": [
    {
     "name": "stderr",
     "output_type": "stream",
     "text": [
      "Traceback (most recent call last):\n",
      "  File \"/usr/lib/python3.6/site-packages/coconut/icoconut/root.py\", line 70, in memoized_parse_block\n",
      "    result = parse_block_memo[code]\n",
      "KeyError: 'def coverage(read, kmers):\\n    \\n'\n",
      "\n",
      "During handling of the above exception, another exception occurred:\n",
      "\n",
      "pyparsing.ParseException: Expected end of text (at char 0), (line:1, col:1)\n",
      "\n",
      "During handling of the above exception, another exception occurred:\n",
      "\n",
      "Traceback (most recent call last):\n",
      "  File \"/usr/lib/python3.6/site-packages/coconut/compiler/compiler.py\", line 483, in parse\n",
      "    parsed = parse(parser, pre_procd)\n",
      "  File \"/usr/lib/python3.6/site-packages/coconut/compiler/util.py\", line 190, in parse\n",
      "    return grammar.parseWithTabs().parseString(text)\n",
      "  File \"/usr/lib/python3.6/site-packages/pyparsing.py\", line 1632, in parseString\n",
      "    raise exc\n",
      "  File \"/usr/lib/python3.6/site-packages/pyparsing.py\", line 1622, in parseString\n",
      "    loc, tokens = self._parse( instring, 0 )\n",
      "  File \"/usr/lib/python3.6/site-packages/pyparsing.py\", line 1529, in _parseCache\n",
      "    value = self._parseNoCache(instring, loc, doActions, callPreParse)\n",
      "  File \"/usr/lib/python3.6/site-packages/pyparsing.py\", line 1379, in _parseNoCache\n",
      "    loc,tokens = self.parseImpl( instring, preloc, doActions )\n",
      "  File \"/usr/lib/python3.6/site-packages/pyparsing.py\", line 3391, in parseImpl\n",
      "    raise ParseSyntaxException._from_exception(pe)\n",
      "pyparsing.ParseSyntaxException: Expected end of text (at char 0), (line:1, col:1)\n",
      "\n",
      "During handling of the above exception, another exception occurred:\n",
      "\n",
      "Traceback (most recent call last):\n",
      "  File \"/usr/lib/python3.6/site-packages/coconut/icoconut/root.py\", line 112, in cache\n",
      "    compiled = memoized_parse_sys(code)\n",
      "  File \"/usr/lib/python3.6/site-packages/coconut/icoconut/root.py\", line 87, in memoized_parse_sys\n",
      "    return COMPILER.header_proc(memoized_parse_block(code), header=\"sys\", initial=\"none\")\n",
      "  File \"/usr/lib/python3.6/site-packages/coconut/icoconut/root.py\", line 80, in memoized_parse_block\n",
      "    raise result\n",
      "  File \"/usr/lib/python3.6/site-packages/coconut/icoconut/root.py\", line 137, in _coconut_compile\n",
      "    memoized_parse_block(source)\n",
      "  File \"/usr/lib/python3.6/site-packages/coconut/icoconut/root.py\", line 80, in memoized_parse_block\n",
      "    raise result\n",
      "  File \"/usr/lib/python3.6/site-packages/coconut/icoconut/root.py\", line 73, in memoized_parse_block\n",
      "    parsed = COMPILER.parse_block(code)\n",
      "  File \"/usr/lib/python3.6/site-packages/coconut/compiler/compiler.py\", line 1647, in parse_block\n",
      "    return self.parse(inputstring, self.file_parser, {}, {\"header\": \"none\", \"initial\": \"none\"})\n",
      "  File \"/usr/lib/python3.6/site-packages/coconut/compiler/compiler.py\", line 486, in parse\n",
      "    raise self.make_parse_err(err)\n",
      "coconut.exceptions.CoconutParseError: parsing failed (line 1)\n",
      "  def coverage(read, kmers):\n"
     ]
    },
    {
     "ename": "SyntaxError",
     "evalue": "parsing failed\n  def coverage(read, kmers): (<string>)",
     "output_type": "error",
     "traceback": [
      "\u001b[0;36m  File \u001b[0;32m\"<string>\"\u001b[0;36m, line \u001b[0;32munknown\u001b[0m\n\u001b[0;31mSyntaxError\u001b[0m\u001b[0;31m:\u001b[0m parsing failed\n  def coverage(read, kmers):\n"
     ]
    }
   ],
   "source": [
    "def coverage(read, kmers):\n",
    "    "
   ]
  },
  {
   "cell_type": "code",
   "execution_count": 43,
   "metadata": {
    "ExecuteTime": {
     "end_time": "2017-06-15T15:25:43.928252Z",
     "start_time": "2017-06-15T15:25:43.605117Z"
    },
    "collapsed": true
   },
   "outputs": [],
   "source": [
    "def group_intersections(kmers, level=0):\n",
    "    intersecting = find_intersecting_kmers(kmers)\n",
    "    #intersecting = filter((x)->len(x[1]) > 100, intersecting) |> \n",
    "    #intersecting = filter((x)->not neighbors(*x[0]), intersecting)\n",
    "    #print('Making dict of intersecting...')\n",
    "    # Build dict\n",
    "    intersect_dict = defaultdict(dict)\n",
    "    for (k1, k2), reads in intersecting:\n",
    "        intersect_dict[k1][k2] = reads\n",
    "        #intersect_dict[k2][k1] = reads\n",
    "    #print(' ' * level + f'level {level}: {len(intersect_dict)}')\n",
    "    #if level:\n",
    "    #pprint(dict(intersect_dict))\n",
    "        \n",
    "    for kmer, intersect_kmers in intersect_dict.items():\n",
    "        if len(intersect_kmers) > 1:\n",
    "            #print(' '*level + kmer)\n",
    "            intersect_dict[kmer] = group_intersections(intersect_kmers, level=level+1)\n",
    "            #pprint(dict(intersect_kmers))\n",
    "            #pprint(dict(intersect_dict[kmer]))\n",
    "        \n",
    "    #print(' ' * level + f'level {level} done!')\n",
    "    return intersect_dict"
   ]
  },
  {
   "cell_type": "code",
   "execution_count": 44,
   "metadata": {
    "ExecuteTime": {
     "end_time": "2017-06-15T15:25:45.183608Z",
     "start_time": "2017-06-15T15:25:45.176038Z"
    },
    "scrolled": true
   },
   "outputs": [
    {
     "name": "stdout",
     "output_type": "stream",
     "text": [
      "221\n"
     ]
    }
   ],
   "source": [
    "print(len(unique))\n",
    "test = {\n",
    "    'a': {1, 2, 3},\n",
    "    'b': {2, 3, 4},\n",
    "    'c': {3, 4, 5},\n",
    "    'd': {4, 5, 6}\n",
    "}\n",
    "fin = group_intersections(\n",
    "#unique)\n",
    "test)"
   ]
  },
  {
   "cell_type": "code",
   "execution_count": 45,
   "metadata": {
    "ExecuteTime": {
     "end_time": "2017-06-15T15:25:45.712400Z",
     "start_time": "2017-06-15T15:25:45.705365Z"
    }
   },
   "outputs": [
    {
     "data": {
      "text/plain": [
       "defaultdict(dict,\n",
       "            {'a': defaultdict(dict, {'b': {'c': {3}}}),\n",
       "             'b': defaultdict(dict, {'c': {'d': {4}}}),\n",
       "             'c': {'d': {4, 5}}})"
      ]
     },
     "execution_count": 45,
     "metadata": {},
     "output_type": "execute_result"
    }
   ],
   "source": [
    "fin"
   ]
  },
  {
   "cell_type": "code",
   "execution_count": 46,
   "metadata": {
    "ExecuteTime": {
     "end_time": "2017-06-15T15:25:46.513342Z",
     "start_time": "2017-06-15T15:25:46.504606Z"
    },
    "scrolled": true
   },
   "outputs": [
    {
     "name": "stdout",
     "output_type": "stream",
     "text": [
      "a\n",
      "-b\n",
      "--c\n",
      "b\n",
      "-c\n",
      "--d\n",
      "c\n",
      "-d\n"
     ]
    }
   ],
   "source": [
    "def print_tree(kmers, level=0):\n",
    "    if kmers `isinstance` set:\n",
    "        return\n",
    "    for kmer, leaves in kmers.items():\n",
    "        print('-' * level, kmer, sep='')\n",
    "        print_tree(leaves, level=level+1)\n",
    "print_tree(fin)"
   ]
  },
  {
   "cell_type": "code",
   "execution_count": null,
   "metadata": {
    "ExecuteTime": {
     "end_time": "2017-06-15T09:11:17.749919Z",
     "start_time": "2017-06-15T09:11:11.678665Z"
    },
    "collapsed": true
   },
   "outputs": [],
   "source": [
    "kmer_reads(kmers)$[0]\n",
    "all_len = kmer_reads(kmers) |> map$((x)->len(x)) |> sum\n",
    "n = 0\n",
    "for read in kmer_reads(kmers): n += 1\n",
    "all_len / n  # average length"
   ]
  },
  {
   "cell_type": "code",
   "execution_count": null,
   "metadata": {
    "ExecuteTime": {
     "end_time": "2017-06-15T08:18:43.274809Z",
     "start_time": "2017-06-15T08:18:43.227281Z"
    },
    "collapsed": true
   },
   "outputs": [],
   "source": [
    "kmers |> len"
   ]
  },
  {
   "cell_type": "code",
   "execution_count": 31,
   "metadata": {
    "ExecuteTime": {
     "end_time": "2017-06-15T15:14:57.634852Z",
     "start_time": "2017-06-15T15:14:57.610901Z"
    },
    "collapsed": true
   },
   "outputs": [],
   "source": [
    "del fin"
   ]
  },
  {
   "cell_type": "code",
   "execution_count": null,
   "metadata": {
    "collapsed": true
   },
   "outputs": [],
   "source": []
  }
 ],
 "metadata": {
  "kernelspec": {
   "display_name": "Coconut (Python 3)",
   "language": "coconut",
   "name": "coconut3"
  },
  "language_info": {
   "codemirror_mode": {
    "name": "python",
    "version": 3.6
   },
   "file_extension": ".coco",
   "mimetype": "text/x-python3",
   "name": "coconut",
   "pygments_lexer": "coconut"
  },
  "notify_time": "5"
 },
 "nbformat": 4,
 "nbformat_minor": 2
}
