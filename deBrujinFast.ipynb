{
 "cells": [
  {
   "cell_type": "code",
   "execution_count": 1,
   "metadata": {
    "collapsed": true
   },
   "outputs": [],
   "source": [
    "from collections import defaultdict, Counter\n",
    "from tqdm import tqdm\n",
    "from typing import Dict, Set, List, Iterable, DefaultDict, NamedTuple\n",
    "from freader import read_dna\n",
    "\n",
    "import os"
   ]
  },
  {
   "cell_type": "code",
   "execution_count": 2,
   "metadata": {},
   "outputs": [
    {
     "name": "stdout",
     "output_type": "stream",
     "text": [
      "digraph A{\n",
      " ABD[label=\"\"]\n",
      " BCC[label=\"\"]\n",
      "\n",
      " DAB[label=\"\"]\n",
      "  DAB -> ABC[label=\"L = 4 Q = 1\"];\n",
      "  DAB -> ABD[label=\"L = 4 Q = 1\"];\n",
      " BCD[label=\"\"]\n",
      "  BCD -> CDA[label=\"L = 4 Q = 1\"];\n",
      " ABC[label=\"\"]\n",
      "  ABC -> BCD[label=\"L = 4 Q = 1\"];\n",
      "  ABC -> BCC[label=\"L = 4 Q = 1\"];\n",
      " CDA[label=\"\"]\n",
      "  CDA -> DAB[label=\"L = 4 Q = 1\"];\n",
      "}\n"
     ]
    }
   ],
   "source": [
    "with open('deBrujin_test.dot') as file:\n",
    "    for line in read_dna(file):\n",
    "        print(line)"
   ]
  },
  {
   "cell_type": "code",
   "execution_count": 7,
   "metadata": {},
   "outputs": [
    {
     "name": "stderr",
     "output_type": "stream",
     "text": [
      "100%|██████████| 6/6 [00:00<00:00, 31694.99it/s]"
     ]
    },
    {
     "name": "stdout",
     "output_type": "stream",
     "text": [
      " ACGT[label=\"ACGT\"]\n",
      "\n",
      "  ACGT -> CGTA [label=\"ACGTA 1\"];\n",
      "\n",
      " ACGT[label=\"\"]\n",
      "\n",
      "  ACGT -> CGTA[label=\"L = 5 Q = 1\"];\n",
      "\n",
      "defaultdict(<class 'dict'>, {'DAB': {'ABC': Edge(edge='DABC', count=1), 'ABD': Edge(edge='DABD', count=1)}, 'BCD': {'CDA': Edge(edge='BCDA', count=1)}, 'ABC': {'BCD': Edge(edge='ABCD', count=1), 'BCC': Edge(edge='ABCC', count=1)}, 'CDA': {'DAB': Edge(edge='CDAB', count=1)}})\n",
      "Making pdf deBrujin_test1.pdf...\n"
     ]
    },
    {
     "name": "stderr",
     "output_type": "stream",
     "text": [
      "\n"
     ]
    }
   ],
   "source": [
    "def test_formater():\n",
    "    formater = GraphVizFormater('read')\n",
    "    formater.peak = 'ACGT'\n",
    "    formater.outs = {'CGTA': Edge('ACGTA', 1)}\n",
    "    formater.out = 'CGTA'\n",
    "    \n",
    "    res_read = formater.format_edge()\n",
    "    res_read_peak = formater.format_peak()\n",
    "    print(res_read_peak)\n",
    "    print(res_read)\n",
    "    assert res_read_peak == ' ACGT[label=\"ACGT\"]\\n'\n",
    "    assert res_read == '  ACGT -> CGTA [label=\"ACGTA 1\"];\\n'\n",
    "    formater.change_mode('info')\n",
    "    res_info = formater.format_edge()\n",
    "    res_info_peak = formater.format_peak()\n",
    "    print(res_info_peak)\n",
    "    print(res_info)\n",
    "    assert res_info_peak == ' ACGT[label=\"\"]\\n'\n",
    "    assert res_info == '  ACGT -> CGTA[label=\"L = 5 Q = 1\"];\\n'\n",
    "\n",
    "def test_graph():\n",
    "    reads = ['ABCDA', 'CDABD', 'DABCC']\n",
    "    k = 3\n",
    "    graph = Graph(reads, k)\n",
    "    graph.cut_all()\n",
    "    graph.make_graph()\n",
    "    assert graph.graph == {'ABC': {'BCC': Edge(edge='ABCC', count=1), 'BCD': Edge(edge='ABCD', count=1)}, 'DAB': {'ABD': Edge(edge='DABD', count=1), 'ABC': Edge(edge='DABC', count=1)}, 'BCD': {'CDA': Edge(edge='BCDA', count=1)}, 'CDA': {'DAB': Edge(edge='CDAB', count=1)}}\n",
    "    print(graph.graph)\n",
    "    graph.graph_viz('deBrujin_test.dot', 'info')\n",
    "    graph.save_to_pdf('deBrujin_test1.pdf', 'deBrujin_test.dot')\n",
    "\n",
    "def test():\n",
    "    test_formater()\n",
    "    test_graph()\n",
    "\n",
    "test()"
   ]
  },
  {
   "cell_type": "code",
   "execution_count": 3,
   "metadata": {
    "code_folding": [
     0
    ],
    "collapsed": true
   },
   "outputs": [],
   "source": [
    "class GraphVizFormater:\n",
    "    \"\"\"Format strings into graphViz form.\"\"\"\n",
    "\n",
    "    def __init__(self, mode='read'):\n",
    "        self.modes = {\n",
    "            'read': (self._format_as_read, self._format_peak_as_read),\n",
    "            'info': (self._format_as_info, self._format_peak_as_blank)\n",
    "        }\n",
    "        self.change_mode(mode)\n",
    "        \n",
    "        self.max_peak_len = 10\n",
    "        self.peak: str = ''\n",
    "        self.outs: Dict[str, Edge] = {}\n",
    "        self.out: str = ''\n",
    "    \n",
    "    def change_mode(self, mode):\n",
    "        if mode not in self.modes:\n",
    "            raise ValueError('Unknown format mode. Known are: info, read')\n",
    "        self.format_edge, self.format_peak = self.modes[mode]\n",
    "    \n",
    "    def _format_peak_as_read(self) -> str:\n",
    "        \"\"\"Format peak with its sequence displayed in max_peak_len.\"\"\"\n",
    "        return f' {self.peak}[label=\"{self.peak[:min(len(self.peak), self.max_peak_len)]}\"]\\n'\n",
    "    \n",
    "    def _format_peak_as_blank(self) -> str:\n",
    "        \"\"\"Format peak as blank.\"\"\"\n",
    "        return f' {self.peak}[label=\"\"]\\n'\n",
    "    \n",
    "    def _format_as_read(self) -> str:\n",
    "        \"\"\"Format an edge that connects two peaks.\n",
    "        Peaks and the edge are displayed with their code.\n",
    "        \"\"\"\n",
    "        edge = self.outs[self.out]\n",
    "        frame = f'  {self.peak} -> {self.out} [label=\"{edge.edge} {edge.count}\"];\\n'\n",
    "        return frame\n",
    "    \n",
    "    def _format_as_info(self) -> str:\n",
    "        \"\"\"Format an edge that connects two peaks.\n",
    "        Peaks are blank, edge is displayed with its length and count.\n",
    "        \"\"\"\n",
    "        edge = self.outs[self.out]\n",
    "        edge_chars = f'\"L = {len(edge.edge)} Q = {edge.count}\"'\n",
    "        frame = f'  {self.peak} -> {self.out}[label={edge_chars}];\\n'\n",
    "        return frame"
   ]
  },
  {
   "cell_type": "code",
   "execution_count": 4,
   "metadata": {
    "code_folding": [],
    "collapsed": true
   },
   "outputs": [],
   "source": [
    "class Edge(NamedTuple):\n",
    "    edge: str\n",
    "    count: int"
   ]
  },
  {
   "cell_type": "code",
   "execution_count": 8,
   "metadata": {
    "code_folding": [
     37
    ],
    "collapsed": true
   },
   "outputs": [],
   "source": [
    "class Graph(object):\n",
    "    \"\"\"De Brujin Graph implementation\n",
    "    Minimal order to create a graph from reads:\n",
    "      1) cut_all\n",
    "      2) make_graph\n",
    "    \"\"\"\n",
    "    \n",
    "    def __init__(self, reads: Iterable[str], k: int):\n",
    "        self.edges: Dict[str, int] = Counter()  # keys - edges, values - edge count  \n",
    "        self.peaks: Set[str] = set()\n",
    "        self.k: int = k  # kmer (peak) size\n",
    "        self.k_edge: int = self.k + 1  # edge size\n",
    "        self.reads: Iterable[str] = reads\n",
    "        self.graph: DefaultDict[Dict[str, Edge]] = defaultdict(dict)\n",
    "        self.reversed_graph: DefaultDict[List[str]] = defaultdict(list)\n",
    "\n",
    "    def _cut(self, read):\n",
    "        \"\"\"Cut read into kmers\"\"\"\n",
    "        for i in range(len(read) - self.k_edge + 1):\n",
    "            self.edges[read[i:i + self.k_edge]] += 1\n",
    "            self.peaks.add(read[i:i + self.k])\n",
    "        self.peaks.add(read[-self.k:])\n",
    "\n",
    "    def cut_all(self):\n",
    "        for read in self.reads:\n",
    "            self._cut(read) \n",
    "    \n",
    "    def make_graph(self):\n",
    "        \"\"\"Constructs the graph\"\"\"\n",
    "        self.graph = defaultdict(dict)\n",
    "        for peak in tqdm(self.peaks):\n",
    "            for another_peak in self.peaks:\n",
    "                if peak[1:] == another_peak[:-1]:\n",
    "                    edge = peak + another_peak[-1]\n",
    "                    if edge in self.edges:\n",
    "                        self.graph[peak][another_peak] = Edge(edge, self.edges[edge])\n",
    "                        self.reversed_graph[peak].append(peak)\n",
    "    \n",
    "    def cut_to_edges(self):\n",
    "        for read in self.reads:\n",
    "            self._cut_fast(read)\n",
    "    \n",
    "    def make_graph2(self):\n",
    "        for edge in self.cut_to_edges():\n",
    "            \n",
    "    \n",
    "    def graph_viz(self, filename, mode='read'):\n",
    "        \"\"\"Format graph into graphViz form with mode and save into file\"\"\"\n",
    "        formater = GraphVizFormater(mode)\n",
    "        with open(filename, 'w') as file:\n",
    "            file.write('digraph A{\\n')\n",
    "            for peak in self.peaks.difference(set(self.graph.keys())):  # specify label for peaks without edges from them\n",
    "                formater.peak = peak\n",
    "                file.write(formater.format_peak())\n",
    "            file.write('\\n')\n",
    "            for peak, outs in self.graph.items():\n",
    "                formater.peak = peak\n",
    "                file.write(formater.format_peak())\n",
    "                formater.outs = outs\n",
    "                for out in outs:\n",
    "                    formater.out = out\n",
    "                    file.write(formater.format_edge())\n",
    "            file.write('}')\n",
    "        return filename\n",
    "    \n",
    "    def save_to_pdf(self, pdf: str, dot: str = None, mode: str = 'read'):\n",
    "        \"\"\"Makes pdf file with graph from dot file.\"\"\"\n",
    "        print(f'Making pdf {pdf}...')\n",
    "        if dot is None:\n",
    "            dot = self.graph_viz('tmp.dot', mode)\n",
    "        os.popen(f'dot {dot} -T pdf -o {pdf}')\n",
    "        #os.popen('rm tmp.dot')\n",
    "\n",
    "    def zip(self):\n",
    "        \"\"\"Example of zipping a graph:\n",
    "             / AGC     GCT   \\         /  AGCT    \\\n",
    "            A----->B-------->C   =>   A---------->C\n",
    "            \\   3        2    \\       \\     2      \\\n",
    "        A and C are not allowed to be connected before zipping\n",
    "        B connects only A and C.\n",
    "        \"\"\"\n",
    "        used: List = []\n",
    "        for peak, outs in self.graph.items():\n",
    "            ins = self.reversed_graph[peak]  # list of peaks, that are connected to past peak\n",
    "            if (len(outs) == 1 and len(ins) == 1):  # if peak is connected only to two other peaks\n",
    "                past_peak: str = ins[0]  # because reversed peak is connected only to one peak it is past\n",
    "                next_peak: str = list(outs.keys())[0]\n",
    "                next_ins: List[str] = self.reversed_graph[next_peak]\n",
    "                past_outs: List[str] = list(self.graph[past_peak].keys())\n",
    "\n",
    "                if not ((past_peak in next_ins) or (next_peak in past_outs)):  # if not in a loop\n",
    "                    out_edge: Edge = outs[next_peak]\n",
    "                    average_coverage = (out_edge.count + list(self.graph[past].values())[0].count) // 2\n",
    "                    new_edge = past_peak[0] + out_edge.read\n",
    "                    used.append(peak)\n",
    "                    self.graph[past_peak].pop(peak)\n",
    "                    self.graph[past_peak][next_peak] = Edge(new_edge, average_coverage)\n",
    "                    self.reversed_graph[next_peak].remove(peak)\n",
    "                    self.reversed_graph[next_peak].append(past_peak)\n",
    "\n",
    "        for peak in used:\n",
    "            self.graph.pop(peak)\n",
    "            self.reversed_graph.pop(peak)"
   ]
  },
  {
   "cell_type": "code",
   "execution_count": 9,
   "metadata": {},
   "outputs": [
    {
     "name": "stdout",
     "output_type": "stream",
     "text": [
      "46437\n"
     ]
    }
   ],
   "source": [
    "file = open('test.dna')\n",
    "k = 6\n",
    "graph = Graph(read_dna(file), k)\n",
    "graph.cut_all()\n",
    "print(len(graph.peaks))"
   ]
  },
  {
   "cell_type": "code",
   "execution_count": 25,
   "metadata": {},
   "outputs": [
    {
     "name": "stderr",
     "output_type": "stream",
     "text": [
      "100%|██████████| 46437/46437 [12:06<00:00, 63.88it/s]\n"
     ]
    },
    {
     "data": {
      "text/plain": [
       "'test_alien.dot'"
      ]
     },
     "execution_count": 25,
     "metadata": {},
     "output_type": "execute_result"
    }
   ],
   "source": [
    "graph.make_graph()\n",
    "graph.graph_viz('test_alien.dot', 'info')\n",
    "#graph.save_to_pdf('test_alien.pdf', 'test_alien.dot')"
   ]
  },
  {
   "cell_type": "code",
   "execution_count": 10,
   "metadata": {
    "collapsed": true
   },
   "outputs": [],
   "source": [
    "graph_unzipped = graph\n",
    "graph.zip()"
   ]
  },
  {
   "cell_type": "code",
   "execution_count": 8,
   "metadata": {},
   "outputs": [
    {
     "ename": "NameError",
     "evalue": "name 'graph' is not defined",
     "output_type": "error",
     "traceback": [
      "\u001b[0;31m---------------------------------------------------------------------------\u001b[0m",
      "\u001b[0;31mNameError\u001b[0m                                 Traceback (most recent call last)",
      "\u001b[0;32m<ipython-input-8-792c0d52c49f>\u001b[0m in \u001b[0;36m<module>\u001b[0;34m()\u001b[0m\n\u001b[1;32m      1\u001b[0m \u001b[0mcount\u001b[0m \u001b[0;34m=\u001b[0m \u001b[0;36m0\u001b[0m\u001b[0;34m\u001b[0m\u001b[0m\n\u001b[0;32m----> 2\u001b[0;31m \u001b[0;32mfor\u001b[0m \u001b[0mpeak\u001b[0m\u001b[0;34m,\u001b[0m \u001b[0mouts\u001b[0m \u001b[0;32min\u001b[0m \u001b[0mgraph\u001b[0m\u001b[0;34m.\u001b[0m\u001b[0mgraph\u001b[0m\u001b[0;34m.\u001b[0m\u001b[0mitems\u001b[0m\u001b[0;34m(\u001b[0m\u001b[0;34m)\u001b[0m\u001b[0;34m:\u001b[0m\u001b[0;34m\u001b[0m\u001b[0m\n\u001b[0m\u001b[1;32m      3\u001b[0m     \u001b[0;32mif\u001b[0m \u001b[0mlen\u001b[0m\u001b[0;34m(\u001b[0m\u001b[0mouts\u001b[0m\u001b[0;34m)\u001b[0m \u001b[0;34m==\u001b[0m \u001b[0;36m1\u001b[0m\u001b[0;34m:\u001b[0m\u001b[0;34m\u001b[0m\u001b[0m\n\u001b[1;32m      4\u001b[0m         \u001b[0mcount\u001b[0m \u001b[0;34m+=\u001b[0m \u001b[0;36m1\u001b[0m\u001b[0;34m\u001b[0m\u001b[0m\n\u001b[1;32m      5\u001b[0m \u001b[0mprint\u001b[0m\u001b[0;34m(\u001b[0m\u001b[0mcount\u001b[0m\u001b[0;34m)\u001b[0m\u001b[0;34m\u001b[0m\u001b[0m\n",
      "\u001b[0;31mNameError\u001b[0m: name 'graph' is not defined"
     ]
    }
   ],
   "source": [
    "count = 0\n",
    "for peak, outs in graph.graph.items():\n",
    "    if len(outs) == 1:\n",
    "        count += 1\n",
    "print(count)"
   ]
  },
  {
   "cell_type": "code",
   "execution_count": 49,
   "metadata": {
    "collapsed": true
   },
   "outputs": [],
   "source": [
    "file."
   ]
  },
  {
   "cell_type": "code",
   "execution_count": null,
   "metadata": {
    "collapsed": true
   },
   "outputs": [],
   "source": []
  }
 ],
 "metadata": {
  "kernelspec": {
   "display_name": "Python 3",
   "language": "python",
   "name": "python3"
  },
  "language_info": {
   "codemirror_mode": {
    "name": "ipython",
    "version": 3
   },
   "file_extension": ".py",
   "mimetype": "text/x-python",
   "name": "python",
   "nbconvert_exporter": "python",
   "pygments_lexer": "ipython3",
   "version": "3.6.1"
  }
 },
 "nbformat": 4,
 "nbformat_minor": 1
}
