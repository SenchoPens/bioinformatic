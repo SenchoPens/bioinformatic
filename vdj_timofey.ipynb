{
 "cells": [
  {
   "cell_type": "code",
   "execution_count": 12,
   "metadata": {
    "ExecuteTime": {
     "end_time": "2017-06-25T06:57:11.476475Z",
     "start_time": "2017-06-25T06:57:10.804931Z"
    },
    "collapsed": true,
    "hide_input": false
   },
   "outputs": [],
   "source": [
    "from collections import Counter, namedtuple, defaultdict\n",
    "from pprint import pprint\n",
    "from itertools import groupby, permutations, filterfalse\n",
    "from copy import deepcopy\n",
    "import re\n",
    "\n",
    "import matplotlib.pyplot as plt\n",
    "from Bio import SeqIO\n",
    "import editdistance\n",
    "import networkx as nx\n",
    "import graph_tool.all as gt\n",
    "\n",
    "from vdj_walker import *\n",
    "\n",
    "%matplotlib inline"
   ]
  },
  {
   "cell_type": "code",
   "execution_count": 3,
   "metadata": {
    "ExecuteTime": {
     "end_time": "2017-06-25T06:54:37.819785Z",
     "start_time": "2017-06-25T06:54:33.491852Z"
    },
    "collapsed": true
   },
   "outputs": [],
   "source": [
    "\"\"\"Define constants\"\"\"\n",
    "KMER_LEN = 7\n",
    "PAIR_TRESHOLD = 15\n",
    "COOL_TRESHOLD = 25\n",
    "IMP_TRESHOLD = 10\n",
    "\n",
    "\"\"\"Define data types\"\"\"\n",
    "D = namedtuple('D', ['gene', 'J_gene', 'V_gene'])\n",
    "Comb = namedtuple('Comb', ['gene', 'pos'])\n",
    "DGene = namedtuple('DGene', ['read', 'gene'])\n",
    "Kmer = namedtuple('Kmer', ['seq', 'j', 'v', 'dataset'])\n",
    "\n",
    "\n",
    "#################################################### READING\n",
    "def get_fa_header_value(line, *, index):\n",
    "    return line.split('|')[index].split(':')[1]\n",
    "\n",
    "def read_fa(file):\n",
    "    for record in SeqIO.parse(file, 'fasta'):\n",
    "        yield str(record.seq)\n",
    "\n",
    "def read_J(file):\n",
    "    for record in SeqIO.parse(file, 'fasta'):\n",
    "        id_ = get_fa_header_value(record.id, index=1)\n",
    "        if id_.startswith('cluster'):\n",
    "           seq_len = len(str(record.seq).replace('-', ''))\n",
    "        else:\n",
    "            yield Comb(id_, seq_len)\n",
    "\n",
    "def read_genes(file):\n",
    "    for record in SeqIO.parse(file, 'fasta'):\n",
    "        gene = record.id\n",
    "        read = str(record.seq).upper()\n",
    "        yield DGene(read, gene)\n",
    "\n",
    "def read_V_headers(file):\n",
    "    length = 0\n",
    "    for record in SeqIO.parse(file, 'fasta'):\n",
    "        if 'READ' in record.id:\n",
    "            length = int(get_fa_header_value(record.id, index=3))\n",
    "        elif 'GENE' in record.id:\n",
    "            gene = get_fa_header_value(record.id, index=1)\n",
    "            yield Comb(gene, length)\n",
    "\n",
    "def split_kmers(read, size):\n",
    "    for i in range(len(read) - size + 1):\n",
    "        kmer = read[i : i + size]\n",
    "        yield kmer\n",
    "\n",
    "def read_info(csv):\n",
    "    for line in csv:\n",
    "        atrs = line.split()\n",
    "        v = Comb(atrs[4], int(atrs[2]) - 1)\n",
    "        j = Comb(atrs[8], int(atrs[5]) - 1)\n",
    "        yield (v, j)\n",
    "\n",
    "def fetch_d(vdj_dir: Path, i):\n",
    "    clean_reads = read_fa(open(vdj_dir / 'cleaned_reads.fasta', 'r'))\n",
    "    info = read_info(open(vdj_dir / 'alignment_info.csv'))\n",
    "    \n",
    "    for read, (v, j) in zip(clean_reads, info):\n",
    "        d_read = read[v.pos + 1 : j.pos]\n",
    "        yield (d_read, (j.gene, v.gene, i))\n",
    "\n",
    "def read_iter():\n",
    "    for i, vdj_dir in enumerate(vdj_dir_iter()):\n",
    "        for read, info in fetch_d(vdj_dir, i):\n",
    "            yield (read, info)\n",
    "\n",
    "            \n",
    "#################################################### KMER CLEANING\n",
    "def read_imp(read):\n",
    "    for kmer in split_kmers(read, KMER_LEN):\n",
    "        if kmer not in ds_kmers:\n",
    "            if kmer in good:\n",
    "                yield kmer_pairs[kmer]\n",
    "            else:\n",
    "                yield 0\n",
    "        else:\n",
    "            yield kmer_pairs[kmer]\n",
    "\n",
    "def is_good(n):\n",
    "    return n >= IMP_TRESHOLD\n",
    "\n",
    "\n",
    "#################################################### READ\n",
    "def split_read(read):\n",
    "    global bad_counter, distribution, max_seq_counter\n",
    "    \n",
    "    read_map = list(enumerate(map(is_good, read_imp(read))))\n",
    "    \n",
    "    for i, imp_id in read_map:\n",
    "        distribution[i][int(imp_id)] += 1\n",
    "        \n",
    "    bad_counter += len(list(filter(lambda x: not x[1], read_map)))\n",
    "    \n",
    "    gb = groupby(read_map, lambda x: x[1])\n",
    "    gb = list(map(lambda x: (x[0], list(x[1])), gb))\n",
    "    max_good_seq = 0\n",
    "    for ids in filter(lambda x: x[0], gb):\n",
    "        ids = list(map(lambda x: x[0], ids[1]))\n",
    "        max_good_seq = max(max_good_seq, len(ids))\n",
    "        yield read[ids[0]:(ids[-1] + KMER_LEN)]\n",
    "    if max_good_seq > 0:\n",
    "        max_seq_counter[max_good_seq] += 1\n",
    "\n",
    "\n",
    "def merge_pairs():\n",
    "    \"\"\"Merge pairs\"\"\"\n",
    "    global cleaned_reads\n",
    "    deleted = set()\n",
    "    for seg1, seg2 in permutations(cleaned_reads.keys(), 2):\n",
    "        if any(seg in deleted for seg in (seg1, seg2)):\n",
    "            continue\n",
    "        if seg2 in seg1:\n",
    "            cleaned_reads[seg1] += cleaned_reads[seg2]\n",
    "            del cleaned_reads[seg2]\n",
    "            deleted.add(seg2)\n",
    "    return\n",
    "\n",
    "def clean_vj():\n",
    "    bad_infos = set()\n",
    "    for read, infos in cleaned_reads.items():\n",
    "        bad = set()\n",
    "        for info, n in infos.items():\n",
    "            if n < 15:\n",
    "                bad.add(info)\n",
    "        for info in bad:\n",
    "            infos.pop(info)\n",
    "        if len(infos) == 0:\n",
    "            bad_infos.add(read)\n",
    "    for read in bad_infos:\n",
    "        cleaned_reads.pop(read)\n",
    "\n",
    "def is_cool(read):\n",
    "    return any(kmer in read for kmer in cool)"
   ]
  },
  {
   "cell_type": "code",
   "execution_count": 4,
   "metadata": {
    "ExecuteTime": {
     "end_time": "2017-06-25T06:54:45.318969Z",
     "start_time": "2017-06-25T06:54:44.919289Z"
    }
   },
   "outputs": [
    {
     "name": "stdout",
     "output_type": "stream",
     "text": [
      "24.318181818181817\n"
     ]
    }
   ],
   "source": [
    "#################################################### KMER OPS\n",
    "\"\"\"Kmers in known D segments\"\"\"\n",
    "Ds = list(read_genes(open(gene_dir / 'IGHD-allP.fa', 'r')))\n",
    "l = 0\n",
    "n = 0\n",
    "ds_kmers = set()\n",
    "for i in Ds:\n",
    "    l += len(i.read)\n",
    "    n += 1\n",
    "    for kmer in split_kmers(i.read, KMER_LEN):\n",
    "        ds_kmers.add(kmer)\n",
    "print(l / n)"
   ]
  },
  {
   "cell_type": "code",
   "execution_count": 5,
   "metadata": {
    "ExecuteTime": {
     "end_time": "2017-06-25T06:55:18.226404Z",
     "start_time": "2017-06-25T06:54:47.633368Z"
    },
    "hide_input": false
   },
   "outputs": [
    {
     "name": "stdout",
     "output_type": "stream",
     "text": [
      "Raw kmers: 3039905\n",
      "Paired kmers: 8350\n",
      "Good kmers: 211\n",
      "Cool kmers: 14\n"
     ]
    }
   ],
   "source": [
    "#################################################### READ OPS\n",
    "\"\"\"Cut D segments from all datasets\"\"\"\n",
    "raw_kmers = Counter()\n",
    "for read, info in read_iter():\n",
    "    for seq in split_kmers(read, KMER_LEN):\n",
    "        raw_kmers[Kmer(seq, *info)] += 1\n",
    "print('Raw kmers:', len(raw_kmers))\n",
    "\n",
    "\"\"\"Count kmer pairs and delete kmers with less than PAIR_TRESHOLD number of occurences\"\"\"\n",
    "kmer_pairs = Counter()\n",
    "for kmer, n in raw_kmers.items():\n",
    "    if n > PAIR_TRESHOLD:\n",
    "        kmer_pairs[kmer.seq] += 1\n",
    "print('Paired kmers:', len(kmer_pairs))\n",
    "\n",
    "\"\"\"Filter kmers with small number of pairs\"\"\"\n",
    "good = set()\n",
    "for kmer, n in kmer_pairs.items():\n",
    "    if n >= 20:\n",
    "        good.add(kmer)\n",
    "print('Good kmers:', len(good))\n",
    "\n",
    "\"\"\"Filter kmers with small number of pairs\"\"\"\n",
    "cool = set()\n",
    "for kmer, n in kmer_pairs.items():\n",
    "    if kmer not in ds_kmers and n >= COOL_TRESHOLD:\n",
    "        cool.add(kmer)\n",
    "print('Cool kmers:', len(cool))"
   ]
  },
  {
   "cell_type": "code",
   "execution_count": 6,
   "metadata": {
    "ExecuteTime": {
     "end_time": "2017-06-25T06:55:47.423552Z",
     "start_time": "2017-06-25T06:55:18.228097Z"
    },
    "scrolled": false
   },
   "outputs": [
    {
     "name": "stdout",
     "output_type": "stream",
     "text": [
      "7452\n",
      "5098386\n"
     ]
    }
   ],
   "source": [
    "\"\"\"Clean trash from d segments\"\"\"\n",
    "bad_counter = 0\n",
    "cleaned_reads = defaultdict(Counter)\n",
    "before_len = Counter()\n",
    "after_len = Counter()\n",
    "distribution = [[0, 0] for _ in range(200)]\n",
    "max_seq_counter = Counter()\n",
    "\n",
    "for read, info in read_iter():\n",
    "    before_len[len(read)] += 1\n",
    "    for clean_read in split_read(read):\n",
    "        after_len[len(clean_read)] += 1\n",
    "        cleaned_reads[clean_read][info] += 1\n",
    "\n",
    "print(len(cleaned_reads))\n",
    "print(bad_counter)"
   ]
  },
  {
   "cell_type": "code",
   "execution_count": 7,
   "metadata": {
    "ExecuteTime": {
     "end_time": "2017-06-25T06:56:29.725479Z",
     "start_time": "2017-06-25T06:55:47.425255Z"
    }
   },
   "outputs": [
    {
     "name": "stdout",
     "output_type": "stream",
     "text": [
      "Merged clean reads: 767\n"
     ]
    }
   ],
   "source": [
    "merge_pairs()\n",
    "print('Merged clean reads:', len(cleaned_reads))"
   ]
  },
  {
   "cell_type": "code",
   "execution_count": 8,
   "metadata": {
    "ExecuteTime": {
     "end_time": "2017-06-25T06:56:30.062629Z",
     "start_time": "2017-06-25T06:56:29.727913Z"
    }
   },
   "outputs": [
    {
     "name": "stdout",
     "output_type": "stream",
     "text": [
      "162.94915254237287\n",
      "17.414364640883978\n"
     ]
    }
   ],
   "source": [
    "def Na():\n",
    "    sa = 0\n",
    "    for infos in cleaned_reads.values():\n",
    "        sa += len(infos)\n",
    "    return sa / len(cleaned_reads)\n",
    "\n",
    "print(Na())\n",
    "clean_vj()\n",
    "print(Na())"
   ]
  },
  {
   "cell_type": "code",
   "execution_count": 9,
   "metadata": {
    "ExecuteTime": {
     "end_time": "2017-06-25T06:56:31.696557Z",
     "start_time": "2017-06-25T06:56:30.065087Z"
    },
    "scrolled": false
   },
   "outputs": [
    {
     "data": {
      "text/plain": [
       "<matplotlib.legend.Legend at 0x7f77c71b2940>"
      ]
     },
     "execution_count": 9,
     "metadata": {},
     "output_type": "execute_result"
    },
    {
     "data": {
      "image/png": "[encoded data removed]",
      "text/plain": [
       "<matplotlib.figure.Figure at 0x7f77c6a12630>"
      ]
     },
     "metadata": {},
     "output_type": "display_data"
    }
   ],
   "source": [
    "cleaned_plot = plt.figure(figsize=(13, 13))\n",
    "\n",
    "def xs(cont):\n",
    "    for read, infos in cleaned_reads.items():\n",
    "        #if len(infos) > 1000: continue\n",
    "        if is_cool(read) == cont:\n",
    "            yield len(infos)\n",
    "\n",
    "_ = plt.hist([list(xs(True)), list(xs(False))], bins=100, \n",
    "             color=['r', 'b'], log=True, label=['Contains unique kmer', 'Does not contain'])\n",
    "plt.xlabel('Number of different V-J-dataset in segment', fontsize=20)\n",
    "plt.ylabel('Quantity of such segments', fontsize=20)\n",
    "plt.legend(fontsize=20)"
   ]
  },
  {
   "cell_type": "code",
   "execution_count": 63,
   "metadata": {
    "ExecuteTime": {
     "end_time": "2017-06-22T13:34:56.598787Z",
     "start_time": "2017-06-22T13:34:56.240606Z"
    },
    "collapsed": true
   },
   "outputs": [],
   "source": [
    "cleaned_plot.savefig('cleaned3.png')"
   ]
  },
  {
   "cell_type": "code",
   "execution_count": 207,
   "metadata": {
    "ExecuteTime": {
     "end_time": "2017-06-25T10:58:32.364657Z",
     "start_time": "2017-06-25T10:58:31.536096Z"
    },
    "scrolled": true
   },
   "outputs": [
    {
     "data": {
      "text/plain": [
       "<matplotlib.text.Text at 0x7f77c74ed518>"
      ]
     },
     "execution_count": 207,
     "metadata": {},
     "output_type": "execute_result"
    },
    {
     "data": {
      "image/png": "[encoded data removed]",
      "text/plain": [
       "<matplotlib.figure.Figure at 0x7f77c79f4208>"
      ]
     },
     "metadata": {},
     "output_type": "display_data"
    }
   ],
   "source": [
    "from random import random\n",
    "dot_plot = plt.figure(figsize=(15, 15))\n",
    "x = []\n",
    "y = []\n",
    "c = []\n",
    "s = []\n",
    "for read, infos in mega.items():\n",
    "    x.append(len(infos))\n",
    "    y.append(len(read))\n",
    "    c.append(int(is_cool(read)) and 'r' or 'b')\n",
    "    s.append(sum(infos.values()) / 10)\n",
    "\n",
    "plt.scatter(x, y, c=c, s=s)\n",
    "plt.grid()\n",
    "plt.xlabel('Number of V-J-dataset triples in segment', fontsize=20)\n",
    "plt.ylabel('Length of segment', fontsize=20)"
   ]
  },
  {
   "cell_type": "code",
   "execution_count": 154,
   "metadata": {
    "ExecuteTime": {
     "end_time": "2017-06-25T09:28:21.166225Z",
     "start_time": "2017-06-25T09:28:20.978862Z"
    }
   },
   "outputs": [
    {
     "data": {
      "text/plain": [
       "33"
      ]
     },
     "execution_count": 154,
     "metadata": {},
     "output_type": "execute_result"
    }
   ],
   "source": [
    "mega = {read: infos for read, infos in cleaned_reads.items() if len(infos) > 20}\n",
    "len(mega)"
   ]
  },
  {
   "cell_type": "code",
   "execution_count": 97,
   "metadata": {
    "ExecuteTime": {
     "end_time": "2017-06-22T20:55:58.659952Z",
     "start_time": "2017-06-22T20:55:58.497763Z"
    },
    "collapsed": true
   },
   "outputs": [],
   "source": [
    "dot_plot.savefig('dots.png')"
   ]
  },
  {
   "cell_type": "code",
   "execution_count": 11,
   "metadata": {
    "ExecuteTime": {
     "end_time": "2017-06-25T06:56:32.925641Z",
     "start_time": "2017-06-25T06:56:32.637769Z"
    },
    "collapsed": true
   },
   "outputs": [],
   "source": [
    "def find_best_dist(read, other):\n",
    "    return min((editdistance.eval(read, read2), read2) for read2 in other)\n",
    "\n",
    "def get_edges(peaks):\n",
    "    for read in peaks:\n",
    "        best_n = find_best_dist(read, peaks - {read,})\n",
    "        best_f = find_best_dist(read, cleaned_reads.keys() - peaks)\n",
    "        yield (read, best_n, best_f)"
   ]
  },
  {
   "cell_type": "code",
   "execution_count": 227,
   "metadata": {
    "ExecuteTime": {
     "end_time": "2017-06-25T13:31:28.887245Z",
     "start_time": "2017-06-25T13:31:28.628070Z"
    }
   },
   "outputs": [
    {
     "name": "stdout",
     "output_type": "stream",
     "text": [
      "32\n"
     ]
    },
    {
     "data": {
      "image/png": "[encoded data removed]",
      "text/plain": [
       "<IPython.core.display.Image object>"
      ]
     },
     "metadata": {},
     "output_type": "display_data"
    },
    {
     "data": {
      "text/plain": [
       "<PropertyMap object with key type 'Vertex' and value type 'vector<double>', for Graph 0x7f77aaf70f28, at 0x7f77aaf73160>"
      ]
     },
     "execution_count": 227,
     "metadata": {},
     "output_type": "execute_result"
    }
   ],
   "source": [
    "BLUE = [0., 0., 1., 1.]\n",
    "RED = [1., 0., 0., 1.]\n",
    "GREEN = [0.5, 0.7, 0.25, 1.]\n",
    "\n",
    "G = gt.Graph()\n",
    "G.set_directed(False)\n",
    "\n",
    "name = G.new_vertex_property('string')\n",
    "color = G.new_vertex_property('vector<float>')\n",
    "cool_v = G.new_vertex_property('bool')\n",
    "\n",
    "for peak in mega.keys():\n",
    "    v = G.add_vertex()\n",
    "    \n",
    "    name[v] = peak\n",
    "    cool_v[v] = is_cool(peak)\n",
    "    color[v] = cool_v[v] and RED or BLUE\n",
    "\n",
    "weight = G.new_edge_property('double')\n",
    "ecolor = G.new_edge_property('vector<float>')\n",
    "\n",
    "\n",
    "def find_best_dist(v1, with_cool):\n",
    "    dist_map = []\n",
    "    for v2 in G.vertices():\n",
    "        if v1 != v2 and cool_v[v2] == with_cool:\n",
    "            dist = editdistance.eval(name[v1], name[v2])\n",
    "            dist_map.append((dist, v2))\n",
    "    return filter(lambda x: x[0] < 9, dist_map)\n",
    "\n",
    "def get_edges(cools):\n",
    "    for readv in G.vertices():\n",
    "        if cool_v[readv] != cools: continue\n",
    "        best_n = find_best_dist(readv, with_cool=cools)\n",
    "        best_f = find_best_dist(readv, with_cool=not cools)\n",
    "        yield (readv, best_n, best_f) \n",
    "        \n",
    "def add_edge_(v1, v2, n, cl):\n",
    "    global G, weight, color\n",
    "    e = G.add_edge(v1, v2)\n",
    "    #print(e)\n",
    "    weight[e] = 1 / n\n",
    "    ecolor[e] = cl\n",
    "\n",
    "def cluster(cools, gcl, bcl):\n",
    "    for read, best_n, best_f in get_edges(cools):\n",
    "        all_n = set(read.all_neighbours())\n",
    "        for n, n_read in best_n:\n",
    "            if not (n_read in all_n):\n",
    "                add_edge_(read, n_read, n, gcl)\n",
    "        for f, f_read in best_f:\n",
    "            if not(f_read in all_n):\n",
    "                add_edge_(read, f_read, f, bcl)\n",
    "\n",
    "cluster(True, RED, GREEN)\n",
    "cluster(False, BLUE, GREEN)\n",
    "#print(len(name))\n",
    "\n",
    "print(G.num_vertices())\n",
    "pos = gt.sfdp_layout(G, eweight=weight, p=2)\n",
    "#pos2 = gt.fruchterman_reingold_layout(G, weight=weight, circular=True)\n",
    "#pos3 = gt.arf_layout(G, weight=weight)\n",
    "gt.graph_draw(G, \n",
    "              pos=pos,\n",
    "              vertex_text=G.vertex_index, \n",
    "              #vertex_color=color,\n",
    "              output_size=(600, 600),\n",
    "              vertex_fill_color=color,\n",
    "              fmt='png',\n",
    "              output='test.png',\n",
    "              inline=True,\n",
    "              edge_color=ecolor,\n",
    "              )"
   ]
  },
  {
   "cell_type": "code",
   "execution_count": 225,
   "metadata": {
    "ExecuteTime": {
     "end_time": "2017-06-25T13:31:22.848216Z",
     "start_time": "2017-06-25T13:31:22.842731Z"
    }
   },
   "outputs": [
    {
     "name": "stdout",
     "output_type": "stream",
     "text": [
      "CGTATTACGATTTTTGGAGTGGTTACC\n",
      "CGTATTACGATTTTTGGAGTGGTTATTC\n",
      "GTGGATATTGTAGTAGTACCAGCTGCC\n",
      "CGTATTACTATGATAGTAGTGGTTATTACTAC\n"
     ]
    }
   ],
   "source": [
    "print(name[G.vertex(10)])\n",
    "print(name[G.vertex(14)])\n",
    "print(name[G.vertex(28)])\n",
    "print(name[G.vertex(7)])"
   ]
  },
  {
   "cell_type": "code",
   "execution_count": 202,
   "metadata": {
    "ExecuteTime": {
     "end_time": "2017-06-25T10:01:04.828629Z",
     "start_time": "2017-06-25T10:01:04.763804Z"
    }
   },
   "outputs": [
    {
     "data": {
      "text/plain": [
       "2"
      ]
     },
     "execution_count": 202,
     "metadata": {},
     "output_type": "execute_result"
    }
   ],
   "source": [
    "editdistance.eval('AAA', 'A')"
   ]
  },
  {
   "cell_type": "code",
   "execution_count": 36,
   "metadata": {
    "ExecuteTime": {
     "end_time": "2017-06-25T07:55:14.040424Z",
     "start_time": "2017-06-25T07:55:13.516761Z"
    }
   },
   "outputs": [
    {
     "name": "stdout",
     "output_type": "stream",
     "text": [
      "HEEELOOOO\n"
     ]
    },
    {
     "data": {
      "image/png": "[encoded data removed]",
      "text/plain": [
       "<IPython.core.display.Image object>"
      ]
     },
     "metadata": {},
     "output_type": "display_data"
    },
    {
     "data": {
      "text/plain": [
       "<PropertyMap object with key type 'Vertex' and value type 'vector<double>', for Graph 0x7f77ab462e48, at 0x7f77ab1e9668>"
      ]
     },
     "execution_count": 36,
     "metadata": {},
     "output_type": "execute_result"
    }
   ],
   "source": [
    "g = gt.Graph()\n",
    "\n",
    "name = g.new_vertex_property('string')\n",
    "v1 = g.add_vertex()\n",
    "name[v1] = 'Hi'\n",
    "v2 = g.add_vertex()\n",
    "name[v2] = 'Bye'\n",
    "v3 = g.add_vertex()\n",
    "name[v3] = 'HEEELOOOO'\n",
    "print(name[v3])\n",
    "\n",
    "weight = g.new_edge_property('double')\n",
    "weight[g.add_edge(v1, v2)] = 50.5\n",
    "weight[g.add_edge(v2, v3)] = 200.1\n",
    "\n",
    "pos = gt.sfdp_layout(g, eweight=weight, p=10.0)\n",
    "gt.graph_draw(g, pos=pos, vertex_text=name, inline=True)"
   ]
  },
  {
   "cell_type": "code",
   "execution_count": 48,
   "metadata": {
    "ExecuteTime": {
     "end_time": "2017-06-24T14:27:52.639623Z",
     "start_time": "2017-06-24T14:27:52.358124Z"
    },
    "collapsed": true
   },
   "outputs": [],
   "source": [
    "A = nx.nx_agraph.to_agraph(G)\n",
    "A.write('vdj_graph.dot')"
   ]
  },
  {
   "cell_type": "code",
   "execution_count": 68,
   "metadata": {
    "ExecuteTime": {
     "end_time": "2017-06-22T13:46:33.392013Z",
     "start_time": "2017-06-22T13:46:33.083188Z"
    }
   },
   "outputs": [
    {
     "data": {
      "text/plain": [
       "13"
      ]
     },
     "execution_count": 68,
     "metadata": {},
     "output_type": "execute_result"
    }
   ],
   "source": [
    "comb_reads = defaultdict(list)\n",
    "for read, triples in cleaned_reads.items():\n",
    "    if len(set(map(lambda x: x[2], triples))) < 2:\n",
    "        continue\n",
    "        \n",
    "    comb = tuple(kmer for kmer in cool if kmer in read)\n",
    "    #print(comb)\n",
    "    if len(comb) > 1:\n",
    "        comb_reads[comb].append(read)\n",
    "\n",
    "len(comb_reads)"
   ]
  },
  {
   "cell_type": "code",
   "execution_count": 49,
   "metadata": {
    "ExecuteTime": {
     "end_time": "2017-06-24T14:28:47.531654Z",
     "start_time": "2017-06-24T14:28:47.270905Z"
    },
    "collapsed": true
   },
   "outputs": [],
   "source": [
    "t = nx.DiGraph()\n",
    "t.add_edge(1, 2, len=100)\n",
    "t.add_edge(2, 3, len=10)\n",
    "at = nx.nx_agraph.to_agraph(t)\n",
    "at.write('test_vdj.dot')"
   ]
  },
  {
   "cell_type": "code",
   "execution_count": 22,
   "metadata": {
    "ExecuteTime": {
     "end_time": "2017-06-24T13:46:55.277532Z",
     "start_time": "2017-06-24T13:46:55.225628Z"
    }
   },
   "outputs": [
    {
     "name": "stdout",
     "output_type": "stream",
     "text": [
      "Help on package graph_tool.draw in graph_tool:\n",
      "\n",
      "NAME\n",
      "    graph_tool.draw\n",
      "\n",
      "DESCRIPTION\n",
      "    ``graph_tool.draw`` - Graph drawing and layout\n",
      "    ----------------------------------------------\n",
      "    \n",
      "    Summary\n",
      "    +++++++\n",
      "    \n",
      "    Layout algorithms\n",
      "    =================\n",
      "    \n",
      "    .. autosummary::\n",
      "       :nosignatures:\n",
      "    \n",
      "       sfdp_layout\n",
      "       fruchterman_reingold_layout\n",
      "       arf_layout\n",
      "       radial_tree_layout\n",
      "       planar_layout\n",
      "       random_layout\n",
      "       get_hierarchy_control_points\n",
      "    \n",
      "    Graph drawing\n",
      "    =============\n",
      "    \n",
      "    .. autosummary::\n",
      "       :nosignatures:\n",
      "    \n",
      "       graph_draw\n",
      "       draw_hierarchy\n",
      "       graphviz_draw\n",
      "       prop_to_size\n",
      "    \n",
      "    \n",
      "    Low-level graph drawing\n",
      "    ^^^^^^^^^^^^^^^^^^^^^^^\n",
      "    \n",
      "    .. autosummary::\n",
      "       :nosignatures:\n",
      "    \n",
      "       cairo_draw\n",
      "       interactive_window\n",
      "       GraphWidget\n",
      "       GraphWindow\n",
      "    \n",
      "    Contents\n",
      "    ++++++++\n",
      "\n",
      "PACKAGE CONTENTS\n",
      "    cairo_draw\n",
      "    graphviz_draw\n",
      "    gtk_draw\n",
      "    libgraph_tool_draw\n",
      "    libgraph_tool_layout\n",
      "\n",
      "FUNCTIONS\n",
      "    arf_layout(g, weight=None, d=0.5, a=10, dt=0.001, epsilon=1e-06, max_iter=1000, pos=None, dim=2)\n",
      "        Calculate the ARF spring-block layout of the graph.\n",
      "        \n",
      "        Parameters\n",
      "        ----------\n",
      "        g : :class:`~graph_tool.Graph`\n",
      "            Graph to be used.\n",
      "        weight : :class:`~graph_tool.PropertyMap` (optional, default: ``None``)\n",
      "            An edge property map with the respective weights.\n",
      "        d : float (optional, default: ``0.5``)\n",
      "            Opposing force between vertices.\n",
      "        a : float (optional, default: ``10``)\n",
      "            Attracting force between adjacent vertices.\n",
      "        dt : float (optional, default: ``0.001``)\n",
      "            Iteration step size.\n",
      "        epsilon : float (optional, default: ``1e-6``)\n",
      "            Convergence criterion.\n",
      "        max_iter : int (optional, default: ``1000``)\n",
      "            Maximum number of iterations. If this value is ``0``, it runs until\n",
      "            convergence.\n",
      "        pos : :class:`~graph_tool.PropertyMap` (optional, default: ``None``)\n",
      "            Vector vertex property maps where the coordinates should be stored.\n",
      "        dim : int (optional, default: ``2``)\n",
      "            Number of coordinates per vertex.\n",
      "        \n",
      "        Returns\n",
      "        -------\n",
      "        pos : :class:`~graph_tool.PropertyMap`\n",
      "            A vector-valued vertex property map with the coordinates of the\n",
      "            vertices.\n",
      "        \n",
      "        Notes\n",
      "        -----\n",
      "        This algorithm is defined in [geipel-self-organization-2007]_, and has\n",
      "        complexity :math:`O(V^2)`.\n",
      "        \n",
      "        Examples\n",
      "        --------\n",
      "        .. testcode::\n",
      "           :hide:\n",
      "        \n",
      "           np.random.seed(42)\n",
      "           gt.seed_rng(42)\n",
      "        \n",
      "        >>> g = gt.price_network(300)\n",
      "        >>> pos = gt.arf_layout(g, max_iter=0)\n",
      "        >>> gt.graph_draw(g, pos=pos, output=\"graph-draw-arf.pdf\")\n",
      "        <...>\n",
      "        \n",
      "        .. testcode::\n",
      "           :hide:\n",
      "        \n",
      "           gt.graph_draw(g, pos=pos, output=\"graph-draw-arf.png\")\n",
      "        \n",
      "        .. figure:: graph-draw-arf.*\n",
      "            :align: center\n",
      "        \n",
      "            ARF layout of a Price network.\n",
      "        \n",
      "        References\n",
      "        ----------\n",
      "        .. [geipel-self-organization-2007] Markus M. Geipel, \"Self-Organization\n",
      "           applied to Dynamic Network Layout\", International Journal of Modern\n",
      "           Physics C vol. 18, no. 10 (2007), pp. 1537-1549,\n",
      "           :doi:`10.1142/S0129183107011558`, :arxiv:`0704.1748v5`\n",
      "        .. _arf: http://www.sg.ethz.ch/research/graphlayout\n",
      "    \n",
      "    fruchterman_reingold_layout(g, weight=None, a=None, r=1.0, scale=None, circular=False, grid=True, t_range=None, n_iter=100, pos=None)\n",
      "        Calculate the Fruchterman-Reingold spring-block layout of the graph.\n",
      "        \n",
      "        Parameters\n",
      "        ----------\n",
      "        g : :class:`~graph_tool.Graph`\n",
      "            Graph to be used.\n",
      "        weight : :class:`PropertyMap` (optional, default: ``None``)\n",
      "            An edge property map with the respective weights.\n",
      "        a : float (optional, default: :math:`V`)\n",
      "            Attracting force between adjacent vertices.\n",
      "        r : float (optional, default: 1.0)\n",
      "            Repulsive force between vertices.\n",
      "        scale : float (optional, default: :math:`\\sqrt{V}`)\n",
      "            Total scale of the layout (either square side or radius).\n",
      "        circular : bool (optional, default: ``False``)\n",
      "            If ``True``, the layout will have a circular shape. Otherwise the shape\n",
      "            will be a square.\n",
      "        grid : bool (optional, default: ``True``)\n",
      "            If ``True``, the repulsive forces will only act on vertices which are on\n",
      "            the same site on a grid. Otherwise they will act on all vertex pairs.\n",
      "        t_range : tuple of floats (optional, default: ``(scale / 10, scale / 1000)``)\n",
      "            Temperature range used in annealing. The temperature limits the\n",
      "            displacement at each iteration.\n",
      "        n_iter : int (optional, default: ``100``)\n",
      "            Total number of iterations.\n",
      "        pos : :class:`PropertyMap` (optional, default: ``None``)\n",
      "            Vector vertex property maps where the coordinates should be stored. If\n",
      "            provided, this will also be used as the initial position of the\n",
      "            vertices.\n",
      "        \n",
      "        Returns\n",
      "        -------\n",
      "        pos : :class:`~graph_tool.PropertyMap`\n",
      "            A vector-valued vertex property map with the coordinates of the\n",
      "            vertices.\n",
      "        \n",
      "        Notes\n",
      "        -----\n",
      "        This algorithm is defined in [fruchterman-reingold]_, and has\n",
      "        complexity :math:`O(\\text{n-iter}\\times V^2)` if `grid=False` or\n",
      "        :math:`O(\\text{n-iter}\\times (V + E))` otherwise.\n",
      "        \n",
      "        Examples\n",
      "        --------\n",
      "        .. testcode::\n",
      "           :hide:\n",
      "        \n",
      "           np.random.seed(42)\n",
      "           gt.seed_rng(42)\n",
      "        \n",
      "        >>> g = gt.price_network(300)\n",
      "        >>> pos = gt.fruchterman_reingold_layout(g, n_iter=1000)\n",
      "        >>> gt.graph_draw(g, pos=pos, output=\"graph-draw-fr.pdf\")\n",
      "        <...>\n",
      "        \n",
      "        .. testcode::\n",
      "           :hide:\n",
      "        \n",
      "           gt.graph_draw(g, pos=pos, output=\"graph-draw-fr.png\")\n",
      "        \n",
      "        .. figure:: graph-draw-fr.*\n",
      "            :align: center\n",
      "        \n",
      "            Fruchterman-Reingold layout of a Price network.\n",
      "        \n",
      "        References\n",
      "        ----------\n",
      "        .. [fruchterman-reingold] Fruchterman, Thomas M. J.; Reingold, Edward M.\n",
      "           \"Graph Drawing by Force-Directed Placement\". Software - Practice & Experience\n",
      "           (Wiley) 21 (11): 1129-1164. (1991) :doi:`10.1002/spe.4380211102`\n",
      "    \n",
      "    graphviz_draw(g, pos=None, size=(15, 15), pin=False, layout=None, maxiter=None, ratio='fill', overlap=True, sep=None, splines=False, vsize=0.105, penwidth=1.0, elen=None, gprops={}, vprops={}, eprops={}, vcolor='#a40000', ecolor='#2e3436', vcmap=None, vnorm=True, ecmap=None, enorm=True, vorder=None, eorder=None, output='', output_format='auto', fork=False, return_string=False)\n",
      "        Draw a graph using graphviz.\n",
      "        \n",
      "        Parameters\n",
      "        ----------\n",
      "        g : :class:`~graph_tool.Graph`\n",
      "            Graph to be drawn.\n",
      "        pos : :class:`~graph_tool.PropertyMap` or tuple of :class:`~graph_tool.PropertyMap` (optional, default: ``None``)\n",
      "            Vertex property maps containing the x and y coordinates of the vertices.\n",
      "        size : tuple of scalars (optional, default: ``(15,15)``)\n",
      "            Size (in centimeters) of the canvas.\n",
      "        pin : bool or :class:`~graph_tool.PropertyMap` (default: ``False``)\n",
      "            If ``True``, the vertices are not moved from their initial position. If\n",
      "            a :class:`~graph_tool.PropertyMap` is passed, it is used to pin nodes\n",
      "            individually.\n",
      "        layout : string (default: ``\"neato\" if g.num_vertices() <= 1000 else \"sfdp\"``)\n",
      "            Layout engine to be used. Possible values are ``\"neato\"``, ``\"fdp\"``,\n",
      "            ``\"dot\"``, ``\"circo\"``, ``\"twopi\"`` and ``\"arf\"``.\n",
      "        maxiter : int (default: ``None``)\n",
      "            If specified, limits the maximum number of iterations.\n",
      "        ratio : string or float (default: ``\"fill\"``)\n",
      "            Sets the aspect ratio (drawing height/drawing width) for the\n",
      "            drawing. Note that this is adjusted before the ``size`` attribute\n",
      "            constraints are enforced.\n",
      "        \n",
      "            If ``ratio`` is numeric, it is taken as the desired aspect ratio. Then,\n",
      "            if the actual aspect ratio is less than the desired ratio, the drawing\n",
      "            height is scaled up to achieve the desired ratio; if the actual ratio is\n",
      "            greater than that desired ratio, the drawing width is scaled up.\n",
      "        \n",
      "            If ``ratio == \"fill\"`` and the size attribute is set, node positions are\n",
      "            scaled, separately in both x and y, so that the final drawing exactly\n",
      "            fills the specified size.\n",
      "        \n",
      "            If ``ratio == \"compress\"`` and the size attribute is set, dot attempts\n",
      "            to compress the initial layout to fit in the given size. This achieves a\n",
      "            tighter packing of nodes but reduces the balance and symmetry.  This\n",
      "            feature only works in dot.\n",
      "        \n",
      "            If ``ratio == \"expand\"``, the size attribute is set, and both the width\n",
      "            and the height of the graph are less than the value in size, node\n",
      "            positions are scaled uniformly until at least one dimension fits size\n",
      "            exactly.  Note that this is distinct from using size as the desired\n",
      "            size, as here the drawing is expanded before edges are generated and all\n",
      "            node and text sizes remain unchanged.\n",
      "        \n",
      "            If ``ratio == \"auto\"``, the page attribute is set and the graph cannot\n",
      "            be drawn on a single page, then size is set to an \"ideal\" value. In\n",
      "            particular, the size in a given dimension will be the smallest integral\n",
      "            multiple of the page size in that dimension which is at least half the\n",
      "            current size. The two dimensions are then scaled independently to the\n",
      "            new size. This feature only works in dot.\n",
      "        overlap : bool or string (default: ``\"prism\"``)\n",
      "            Determines if and how node overlaps should be removed. Nodes are first\n",
      "            enlarged using the sep attribute. If ``True``, overlaps are retained. If\n",
      "            the value is ``\"scale\"``, overlaps are removed by uniformly scaling in x\n",
      "            and y. If the value is ``False``, node overlaps are removed by a\n",
      "            Voronoi-based technique. If the value is ``\"scalexy\"``, x and y are\n",
      "            separately scaled to remove overlaps.\n",
      "        \n",
      "            If sfdp is available, one can set overlap to ``\"prism\"`` to use a\n",
      "            proximity graph-based algorithm for overlap removal. This is the\n",
      "            preferred technique, though ``\"scale\"`` and ``False`` can work well with\n",
      "            small graphs. This technique starts with a small scaling up, controlled\n",
      "            by the overlap_scaling attribute, which can remove a significant portion\n",
      "            of the overlap. The prism option also accepts an optional non-negative\n",
      "            integer suffix. This can be used to control the number of attempts made\n",
      "            at overlap removal. By default, ``overlap == \"prism\"`` is equivalent to\n",
      "            ``overlap == \"prism1000\"``. Setting ``overlap == \"prism0\"`` causes only\n",
      "            the scaling phase to be run.\n",
      "        \n",
      "            If the value is ``\"compress\"``, the layout will be scaled down as much\n",
      "            as possible without introducing any overlaps, obviously assuming there\n",
      "            are none to begin with.\n",
      "        sep : float (default: ``None``)\n",
      "            Specifies margin to leave around nodes when removing node overlap. This\n",
      "            guarantees a minimal non-zero distance between nodes.\n",
      "        splines : bool (default: ``False``)\n",
      "            If ``True``, the edges are drawn as splines and routed around the\n",
      "            vertices.\n",
      "        vsize : float, :class:`~graph_tool.PropertyMap`, or tuple (default: ``0.105``)\n",
      "            Default vertex size (width and height). If a tuple is specified, the\n",
      "            first value should be a property map, and the second is a scale factor.\n",
      "        penwidth : float, :class:`~graph_tool.PropertyMap` or tuple (default: ``1.0``)\n",
      "            Specifies the width of the pen, in points, used to draw lines and\n",
      "            curves, including the boundaries of edges and clusters. It has no effect\n",
      "            on text. If a tuple is specified, the first value should be a property\n",
      "            map, and the second is a scale factor.\n",
      "        elen : float or :class:`~graph_tool.PropertyMap` (default: ``None``)\n",
      "            Preferred edge length, in inches.\n",
      "        gprops : dict (default: ``{}``)\n",
      "            Additional graph properties, as a dictionary. The keys are the property\n",
      "            names, and the values must be convertible to string.\n",
      "        vprops : dict (default: ``{}``)\n",
      "            Additional vertex properties, as a dictionary. The keys are the property\n",
      "            names, and the values must be convertible to string, or vertex property\n",
      "            maps, with values convertible to strings.\n",
      "        eprops : dict (default: ``{}``)\n",
      "            Additional edge properties, as a dictionary. The keys are the property\n",
      "            names, and the values must be convertible to string, or edge property\n",
      "            maps, with values convertible to strings.\n",
      "        vcolor : string or :class:`~graph_tool.PropertyMap` (default: ``\"#a40000\"``)\n",
      "            Drawing color for vertices. If the valued supplied is a property map,\n",
      "            the values must be scalar types, whose color values are obtained from\n",
      "            the ``vcmap`` argument.\n",
      "        ecolor : string or :class:`~graph_tool.PropertyMap` (default: ``\"#2e3436\"``)\n",
      "            Drawing color for edges. If the valued supplied is a property map,\n",
      "            the values must be scalar types, whose color values are obtained from\n",
      "            the ``ecmap`` argument.\n",
      "        vcmap : :class:`matplotlib.colors.Colormap` (default: :class:`matplotlib.cm.jet`)\n",
      "            Vertex color map.\n",
      "        vnorm : bool (default: ``True``)\n",
      "            Normalize vertex color values to the [0,1] range.\n",
      "        ecmap : :class:`matplotlib.colors.Colormap` (default: :class:`matplotlib.cm.jet`)\n",
      "            Edge color map.\n",
      "        enorm : bool (default: ``True``)\n",
      "            Normalize edge color values to the [0,1] range.\n",
      "        vorder : :class:`~graph_tool.PropertyMap` (default: ``None``)\n",
      "            Scalar vertex property map which specifies the order with which vertices\n",
      "            are drawn.\n",
      "        eorder : :class:`~graph_tool.PropertyMap` (default: ``None``)\n",
      "            Scalar edge property map which specifies the order with which edges\n",
      "            are drawn.\n",
      "        output : string (default: ``\"\"``)\n",
      "            Output file name.\n",
      "        output_format : string (default: ``\"auto\"``)\n",
      "            Output file format. Possible values are ``\"auto\"``, ``\"xlib\"``,\n",
      "            ``\"ps\"``, ``\"svg\"``, ``\"svgz\"``, ``\"fig\"``, ``\"mif\"``, ``\"hpgl\"``,\n",
      "            ``\"pcl\"``, ``\"png\"``, ``\"gif\"``, ``\"dia\"``, ``\"imap\"``, ``\"cmapx\"``. If\n",
      "            the value is ``\"auto\"``, the format is guessed from the ``output``\n",
      "            parameter, or ``xlib`` if it is empty. If the value is ``None``, no\n",
      "            output is produced.\n",
      "        fork : bool (default: ``False``)\n",
      "            If ``True``, the program is forked before drawing. This is used as a\n",
      "            work-around for a bug in graphviz, where the ``exit()`` function is\n",
      "            called, which would cause the calling program to end. This is always\n",
      "            assumed ``True``, if ``output_format == 'xlib'``.\n",
      "        return_string : bool (default: ``False``)\n",
      "            If ``True``, a string containing the rendered graph as binary data is\n",
      "            returned (defaults to png format).\n",
      "        \n",
      "        Returns\n",
      "        -------\n",
      "        pos : :class:`~graph_tool.PropertyMap`\n",
      "            Vector vertex property map with the x and y coordinates of the vertices.\n",
      "        gv : gv.digraph or gv.graph (optional, only if ``returngv == True``)\n",
      "            Internally used graphviz graph.\n",
      "        \n",
      "        \n",
      "        Notes\n",
      "        -----\n",
      "        This function is a wrapper for the [graphviz]_ routines. Extensive additional\n",
      "        documentation for the graph, vertex and edge properties is available at:\n",
      "        http://www.graphviz.org/doc/info/attrs.html.\n",
      "        \n",
      "        \n",
      "        Examples\n",
      "        --------\n",
      "        .. testcode::\n",
      "           :hide:\n",
      "        \n",
      "           np.random.seed(42)\n",
      "           gt.seed_rng(42)\n",
      "           from numpy import sqrt\n",
      "        \n",
      "        >>> g = gt.price_network(1500)\n",
      "        >>> deg = g.degree_property_map(\"in\")\n",
      "        >>> deg.a = 2 * (sqrt(deg.a) * 0.5 + 0.4)\n",
      "        >>> ebet = gt.betweenness(g)[1]\n",
      "        >>> gt.graphviz_draw(g, vcolor=deg, vorder=deg, elen=10,\n",
      "        ...                  ecolor=ebet, eorder=ebet, output=\"graphviz-draw.pdf\")\n",
      "        <...>\n",
      "        \n",
      "        .. testcode::\n",
      "           :hide:\n",
      "        \n",
      "           gt.graphviz_draw(g, vcolor=deg, vorder=deg, elen=10,\n",
      "                            ecolor=ebet, eorder=ebet, output=\"graphviz-draw.png\")\n",
      "        \n",
      "        .. figure:: graphviz-draw.*\n",
      "            :align: center\n",
      "        \n",
      "            Kamada-Kawai force-directed layout of a Price network with 1500\n",
      "            nodes. The vertex size and color indicate the degree, and the edge color\n",
      "            corresponds to the edge betweeness centrality\n",
      "        \n",
      "        References\n",
      "        ----------\n",
      "        .. [graphviz] http://www.graphviz.org\n",
      "    \n",
      "    planar_layout(g, pos=None)\n",
      "        Performs a canonical layout of a planar graph.\n",
      "        \n",
      "        Parameters\n",
      "        ----------\n",
      "        g : :class:`~graph_tool.Graph`\n",
      "            Planar graph to be used.\n",
      "        pos : :class:`~graph_tool.PropertyMap` (optional, default: ``None``)\n",
      "            Vector vertex property maps where the coordinates should be stored.\n",
      "        \n",
      "        Returns\n",
      "        -------\n",
      "        pos : :class:`~graph_tool.PropertyMap`\n",
      "            A vector-valued vertex property map with the coordinates of the\n",
      "            vertices.\n",
      "        \n",
      "        Notes\n",
      "        -----\n",
      "        This algorithm has complexity :math:`O(V + E)`.\n",
      "        \n",
      "        Examples\n",
      "        --------\n",
      "        >>> g = gt.lattice([10, 10])\n",
      "        >>> pos = gt.planar_layout(g)\n",
      "        >>> gt.graph_draw(g, pos=pos, output=\"lattice-planar.pdf\")\n",
      "        <...>\n",
      "        \n",
      "        .. testcode::\n",
      "           :hide:\n",
      "        \n",
      "           gt.graph_draw(g, pos=pos, output=\"lattice-planar.png\")\n",
      "        \n",
      "        .. figure:: lattice-planar.*\n",
      "            :align: center\n",
      "        \n",
      "            Straight-line drawing of planar graph (a 2D square lattice).\n",
      "        \n",
      "        References\n",
      "        ----------\n",
      "        .. [straight-line-boost] http://www.boost.org/doc/libs/release/libs/graph/doc/straight_line_drawing.html\n",
      "        .. [chrobak-linear-1995] M. Chrobak, T. Payne, \"A Linear-time Algorithm for\n",
      "           Drawing a Planar Graph on the Grid\", Information Processing Letters 54:\n",
      "           241-246, (1995), :doi:`10.1016/0020-0190(95)00020-D`\n",
      "    \n",
      "    prop_to_size(prop, mi=0, ma=5, log=False, power=0.5)\n",
      "        Convert property map values to be more useful as a vertex size, or edge\n",
      "        width. The new values are taken to be\n",
      "        \n",
      "        .. math::\n",
      "        \n",
      "            y = mi + (ma - mi) \\left(\\frac{x_i - min(x)} {max(x) - min(x)}\\right)^\\text{power}\n",
      "        \n",
      "        If `log=True`, the natural logarithm of the property values is used instead.\n",
      "    \n",
      "    radial_tree_layout(g, root, rel_order=None, weighted=False, node_weight=None, r=1.0)\n",
      "        Computes a radial layout of the graph according to the minimum spanning\n",
      "        tree centered at the ``root`` vertex.\n",
      "        \n",
      "        Parameters\n",
      "        ----------\n",
      "        g : :class:`~graph_tool.Graph`\n",
      "            Graph to be used.\n",
      "        root : :class:`~graph_tool.Vertex` or ``int``\n",
      "            The root of the radial tree.\n",
      "        rel_order : :class:`~graph_tool.PropertyMap` (optional, default: ``None``)\n",
      "            Relative order of the nodes at each respective branch.\n",
      "        weighted : ``bool`` (optional, default: ``False``)\n",
      "            If true, the angle between the child branches will be computed according\n",
      "            to weight of the entire sub-branches.\n",
      "        node_weight : :class:`~graph_tool.PropertyMap` (optional, default: ``None``)\n",
      "            If given, the relative spacing between leafs will correspond to the node\n",
      "            weights.\n",
      "        r : ``float`` (optional, default: ``1.``)\n",
      "            Layer spacing.\n",
      "        \n",
      "        Returns\n",
      "        -------\n",
      "        pos : :class:`~graph_tool.PropertyMap`\n",
      "            A vector-valued vertex property map with the coordinates of the\n",
      "            vertices.\n",
      "        \n",
      "        Notes\n",
      "        -----\n",
      "        This algorithm has complexity :math:`O(V + E)`.\n",
      "        \n",
      "        Examples\n",
      "        --------\n",
      "        .. testcode::\n",
      "           :hide:\n",
      "        \n",
      "           np.random.seed(42)\n",
      "           gt.seed_rng(42)\n",
      "        \n",
      "        >>> g = gt.price_network(1000)\n",
      "        >>> pos = gt.radial_tree_layout(g, g.vertex(0))\n",
      "        >>> gt.graph_draw(g, pos=pos, output=\"graph-draw-radial.pdf\")\n",
      "        <...>\n",
      "        \n",
      "        .. testcode::\n",
      "           :hide:\n",
      "        \n",
      "           gt.graph_draw(g, pos=pos, output=\"graph-draw-radial.png\")\n",
      "        \n",
      "        .. figure:: graph-draw-radial.*\n",
      "            :align: center\n",
      "        \n",
      "            Radial tree layout of a Price network.\n",
      "    \n",
      "    random_layout(g, shape=None, pos=None, dim=2)\n",
      "        Performs a random layout of the graph.\n",
      "        \n",
      "        Parameters\n",
      "        ----------\n",
      "        g : :class:`~graph_tool.Graph`\n",
      "            Graph to be used.\n",
      "        shape : tuple or list (optional, default: ``None``)\n",
      "            Rectangular shape of the bounding area. The size of this parameter must\n",
      "            match `dim`, and each element can be either a pair specifying a range,\n",
      "            or a single value specifying a range starting from zero. If None is\n",
      "            passed, a square of linear size :math:`\\sqrt{N}` is used.\n",
      "        pos : :class:`~graph_tool.PropertyMap` (optional, default: ``None``)\n",
      "            Vector vertex property maps where the coordinates should be stored.\n",
      "        dim : int (optional, default: ``2``)\n",
      "            Number of coordinates per vertex.\n",
      "        \n",
      "        Returns\n",
      "        -------\n",
      "        pos : :class:`~graph_tool.PropertyMap`\n",
      "            A vector-valued vertex property map with the coordinates of the\n",
      "            vertices.\n",
      "        \n",
      "        Notes\n",
      "        -----\n",
      "        This algorithm has complexity :math:`O(V)`.\n",
      "        \n",
      "        Examples\n",
      "        --------\n",
      "        .. testcode::\n",
      "           :hide:\n",
      "        \n",
      "           np.random.seed(42)\n",
      "           gt.seed_rng(42)\n",
      "        \n",
      "        >>> g = gt.random_graph(100, lambda: (3, 3))\n",
      "        >>> shape = [[50, 100], [1, 2], 4]\n",
      "        >>> pos = gt.random_layout(g, shape=shape, dim=3)\n",
      "        >>> pos[g.vertex(0)].a\n",
      "        array([ 68.72700594,   1.03142919,   2.56812658])\n",
      "    \n",
      "    sfdp_layout(g, vweight=None, eweight=None, pin=None, groups=None, C=0.2, K=None, p=2.0, theta=0.6, max_level=15, gamma=1.0, mu=0.0, mu_p=1.0, init_step=None, cooling_step=0.95, adaptive_cooling=True, epsilon=0.01, max_iter=0, pos=None, multilevel=None, coarse_method='hybrid', mivs_thres=0.9, ec_thres=0.75, coarse_stack=None, weighted_coarse=False, verbose=False)\n",
      "        Obtain the SFDP spring-block layout of the graph.\n",
      "        \n",
      "        Parameters\n",
      "        ----------\n",
      "        g : :class:`~graph_tool.Graph`\n",
      "            Graph to be used.\n",
      "        vweight : :class:`~graph_tool.PropertyMap` (optional, default: ``None``)\n",
      "            A vertex property map with the respective weights.\n",
      "        eweight : :class:`~graph_tool.PropertyMap` (optional, default: ``None``)\n",
      "            An edge property map with the respective weights.\n",
      "        pin : :class:`~graph_tool.PropertyMap` (optional, default: ``None``)\n",
      "            A vertex property map with boolean values, which, if given,\n",
      "            specify the vertices which will not have their positions modified.\n",
      "        groups : :class:`~graph_tool.PropertyMap` (optional, default: ``None``)\n",
      "            A vertex property map with group assignments. Vertices belonging to the\n",
      "            same group will be put close together.\n",
      "        C : float (optional, default: ``0.2``)\n",
      "            Relative strength of repulsive forces.\n",
      "        K : float (optional, default: ``None``)\n",
      "            Optimal edge length. If not provided, it will be taken to be the average\n",
      "            edge distance in the initial layout.\n",
      "        p : float (optional, default: ``2``)\n",
      "            Repulsive force exponent.\n",
      "        theta : float (optional, default: ``0.6``)\n",
      "            Quadtree opening parameter, a.k.a. Barnes-Hut opening criterion.\n",
      "        max_level : int (optional, default: ``15``)\n",
      "            Maximum quadtree level.\n",
      "        gamma : float (optional, default: ``1.0``)\n",
      "            Strength of the attractive force between connected components, or group\n",
      "            assignments.\n",
      "        mu : float (optional, default: ``0.0``)\n",
      "            Strength of the attractive force between vertices of the same connected\n",
      "            component, or group assignment.\n",
      "        mu_p : float (optional, default: ``1.0``)\n",
      "            Scaling exponent of the attractive force between vertices of the same\n",
      "            connected component, or group assignment.\n",
      "        init_step : float (optional, default: ``None``)\n",
      "            Initial update step. If not provided, it will be chosen automatically.\n",
      "        cooling_step : float (optional, default: ``0.95``)\n",
      "            Cooling update step.\n",
      "        adaptive_cooling : bool (optional, default: ``True``)\n",
      "            Use an adaptive cooling scheme.\n",
      "        epsilon : float (optional, default: ``0.01``)\n",
      "            Relative convergence criterion.\n",
      "        max_iter : int (optional, default: ``0``)\n",
      "            Maximum number of iterations. If this value is ``0``, it runs until\n",
      "            convergence.\n",
      "        pos : :class:`~graph_tool.PropertyMap` (optional, default: ``None``)\n",
      "            Initial vertex layout. If not provided, it will be randomly chosen.\n",
      "        multilevel : bool (optional, default: ``None``)\n",
      "            Use a multilevel layout algorithm. If ``None`` is given, it will be\n",
      "            activated based on the size of the graph.\n",
      "        coarse_method : str (optional, default: ``\"hybrid\"``)\n",
      "            Coarsening method used if ``multilevel == True``. Allowed methods are\n",
      "            ``\"hybrid\"``, ``\"mivs\"`` and ``\"ec\"``.\n",
      "        mivs_thres : float (optional, default: ``0.9``)\n",
      "            If the relative size of the MIVS coarse graph is above this value, the\n",
      "            coarsening stops.\n",
      "        ec_thres : float (optional, default: ``0.75``)\n",
      "            If the relative size of the EC coarse graph is above this value, the\n",
      "            coarsening stops.\n",
      "        weighted_coarse : bool (optional, default: ``False``)\n",
      "            Use weighted coarse graphs.\n",
      "        verbose : bool (optional, default: ``False``)\n",
      "            Provide verbose information.\n",
      "        \n",
      "        Returns\n",
      "        -------\n",
      "        pos : :class:`~graph_tool.PropertyMap`\n",
      "            A vector-valued vertex property map with the coordinates of the\n",
      "            vertices.\n",
      "        \n",
      "        Notes\n",
      "        -----\n",
      "        This algorithm is defined in [hu-multilevel-2005]_, and has\n",
      "        complexity :math:`O(V\\log V)`.\n",
      "        \n",
      "        Examples\n",
      "        --------\n",
      "        .. testcode::\n",
      "           :hide:\n",
      "        \n",
      "           np.random.seed(42)\n",
      "           gt.seed_rng(42)\n",
      "        \n",
      "        >>> g = gt.price_network(3000)\n",
      "        >>> pos = gt.sfdp_layout(g)\n",
      "        >>> gt.graph_draw(g, pos=pos, output=\"graph-draw-sfdp.pdf\")\n",
      "        <...>\n",
      "        \n",
      "        .. testcode::\n",
      "           :hide:\n",
      "        \n",
      "           gt.graph_draw(g, pos=pos, output=\"graph-draw-sfdp.png\")\n",
      "        \n",
      "        .. figure:: graph-draw-sfdp.*\n",
      "            :align: center\n",
      "        \n",
      "            SFDP layout of a Price network.\n",
      "        \n",
      "        References\n",
      "        ----------\n",
      "        .. [hu-multilevel-2005] Yifan Hu, \"Efficient and High Quality Force-Directed\n",
      "           Graph\", Mathematica Journal, vol. 10, Issue 1, pp. 37-71, (2005)\n",
      "           http://www.mathematica-journal.com/issue/v10i1/graph_draw.html\n",
      "\n",
      "DATA\n",
      "    __all__ = ['graph_draw', 'graphviz_draw', 'fruchterman_reingold_layout...\n",
      "\n",
      "FILE\n",
      "    /usr/lib/python3.6/site-packages/graph_tool/draw/__init__.py\n",
      "\n",
      "\n"
     ]
    }
   ],
   "source": [
    "help(gt.draw)"
   ]
  },
  {
   "cell_type": "code",
   "execution_count": 34,
   "metadata": {
    "ExecuteTime": {
     "end_time": "2017-06-24T14:00:32.773856Z",
     "start_time": "2017-06-24T14:00:32.749707Z"
    },
    "collapsed": true
   },
   "outputs": [],
   "source": [
    "import graph_tool.draw as gt"
   ]
  },
  {
   "cell_type": "code",
   "execution_count": 35,
   "metadata": {
    "ExecuteTime": {
     "end_time": "2017-06-24T14:00:58.141758Z",
     "start_time": "2017-06-24T14:00:58.105169Z"
    }
   },
   "outputs": [
    {
     "data": {
      "text/plain": [
       "<function graph_tool.draw.graphviz_draw.graphviz_draw>"
      ]
     },
     "execution_count": 35,
     "metadata": {},
     "output_type": "execute_result"
    }
   ],
   "source": [
    "gt.graph_drawtt"
   ]
  },
  {
   "cell_type": "code",
   "execution_count": 208,
   "metadata": {
    "ExecuteTime": {
     "end_time": "2017-06-25T12:22:17.125122Z",
     "start_time": "2017-06-25T12:22:11.212508Z"
    }
   },
   "outputs": [
    {
     "data": {
      "text/plain": [
       "370485"
      ]
     },
     "execution_count": 208,
     "metadata": {},
     "output_type": "execute_result"
    }
   ],
   "source": [
    "n = 0\n",
    "for i in read_iter():\n",
    "    n += 1\n",
    "n"
   ]
  },
  {
   "cell_type": "code",
   "execution_count": null,
   "metadata": {
    "collapsed": true
   },
   "outputs": [],
   "source": []
  }
 ],
 "metadata": {
  "kernelspec": {
   "display_name": "Coconut (Python 3)",
   "language": "coconut",
   "name": "coconut3"
  },
  "language_info": {
   "codemirror_mode": {
    "name": "python",
    "version": 3.6
   },
   "file_extension": ".coco",
   "mimetype": "text/x-python3",
   "name": "coconut",
   "pygments_lexer": "coconut"
  },
  "notify_time": "5"
 },
 "nbformat": 4,
 "nbformat_minor": 1
}
