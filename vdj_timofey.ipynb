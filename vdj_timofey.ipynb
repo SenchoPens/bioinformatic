{
 "cells": [
  {
   "cell_type": "code",
   "execution_count": 13,
   "metadata": {
    "ExecuteTime": {
     "end_time": "2017-06-22T10:20:29.923207Z",
     "start_time": "2017-06-22T10:20:29.911962Z"
    },
    "collapsed": true,
    "hide_input": false
   },
   "outputs": [],
   "source": [
    "from collections import Counter, namedtuple, defaultdict\n",
    "from pprint import pprint\n",
    "from itertools import groupby, permutations\n",
    "from copy import deepcopy\n",
    "import re\n",
    "\n",
    "import matplotlib.pyplot as plt\n",
    "from Bio import SeqIO\n",
    "\n",
    "from vdj_walker import *\n",
    "\n",
    "%matplotlib inline"
   ]
  },
  {
   "cell_type": "code",
   "execution_count": 70,
   "metadata": {
    "ExecuteTime": {
     "end_time": "2017-06-22T13:49:33.239097Z",
     "start_time": "2017-06-22T13:49:29.795762Z"
    },
    "collapsed": true
   },
   "outputs": [],
   "source": [
    "\"\"\"Define constants\"\"\"\n",
    "KMER_LEN = 7\n",
    "PAIR_TRESHOLD = 15\n",
    "COOL_TRESHOLD = 25\n",
    "IMP_TRESHOLD = 10\n",
    "\n",
    "\"\"\"Define data types\"\"\"\n",
    "D = namedtuple('D', ['gene', 'J_gene', 'V_gene'])\n",
    "Comb = namedtuple('Comb', ['gene', 'pos'])\n",
    "DGene = namedtuple('DGene', ['read', 'gene'])\n",
    "Kmer = namedtuple('Kmer', ['seq', 'j', 'v', 'dataset'])\n",
    "\n",
    "\n",
    "#################################################### READING\n",
    "def get_fa_header_value(line, *, index):\n",
    "    return line.split('|')[index].split(':')[1]\n",
    "\n",
    "def read_fa(file):\n",
    "    for record in SeqIO.parse(file, 'fasta'):\n",
    "        yield str(record.seq)\n",
    "\n",
    "def read_J(file):\n",
    "    for record in SeqIO.parse(file, 'fasta'):\n",
    "        id_ = get_fa_header_value(record.id, index=1)\n",
    "        if id_.startswith('cluster'):\n",
    "           seq_len = len(str(record.seq).replace('-', ''))\n",
    "        else:\n",
    "            yield Comb(id_, seq_len)\n",
    "\n",
    "def read_genes(file):\n",
    "    for record in SeqIO.parse(file, 'fasta'):\n",
    "        gene = record.id\n",
    "        read = str(record.seq).upper()\n",
    "        yield DGene(read, gene)\n",
    "\n",
    "def read_V_headers(file):\n",
    "    length = 0\n",
    "    for record in SeqIO.parse(file, 'fasta'):\n",
    "        if 'READ' in record.id:\n",
    "            length = int(get_fa_header_value(record.id, index=3))\n",
    "        elif 'GENE' in record.id:\n",
    "            gene = get_fa_header_value(record.id, index=1)\n",
    "            yield Comb(gene, length)\n",
    "\n",
    "def split_kmers(read, size):\n",
    "    for i in range(len(read) - size + 1):\n",
    "        kmer = read[i : i + size]\n",
    "        yield kmer\n",
    "\n",
    "def read_info(csv):\n",
    "    for line in csv:\n",
    "        atrs = line.split()\n",
    "        v = Comb(atrs[4], int(atrs[2]) - 1)\n",
    "        j = Comb(atrs[8], int(atrs[5]) - 1)\n",
    "        yield (v, j)\n",
    "\n",
    "def fetch_d(vdj_dir: Path, i):\n",
    "    clean_reads = read_fa(open(vdj_dir / 'cleaned_reads.fasta', 'r'))\n",
    "    info = read_info(open(vdj_dir / 'alignment_info.csv'))\n",
    "    \n",
    "    for read, (v, j) in zip(clean_reads, info):\n",
    "        d_read = read[v.pos + 1 : j.pos]\n",
    "        yield (d_read, (j.gene, v.gene, i))\n",
    "\n",
    "def read_iter():\n",
    "    for i, vdj_dir in enumerate(vdj_dir_iter()):\n",
    "        for read, info in fetch_d(vdj_dir, i):\n",
    "            yield (read, info)\n",
    "\n",
    "            \n",
    "#################################################### KMER CLEANING\n",
    "def read_imp(read):\n",
    "    for kmer in split_kmers(read, KMER_LEN):\n",
    "        if kmer not in ds_kmers:\n",
    "            if kmer in good:\n",
    "                yield kmer_pairs[kmer]\n",
    "            else:\n",
    "                yield 0\n",
    "        else:\n",
    "            yield kmer_pairs[kmer]\n",
    "\n",
    "def is_good(n):\n",
    "    return n >= IMP_TRESHOLD\n",
    "\n",
    "\n",
    "#################################################### READ\n",
    "def split_read(read):\n",
    "    global bad_counter, distribution, max_seq_counter\n",
    "    \n",
    "    read_map = list(enumerate(map(is_good, read_imp(read))))\n",
    "    \n",
    "    for i, imp_id in read_map:\n",
    "        distribution[i][int(imp_id)] += 1\n",
    "        \n",
    "    bad_counter += len(list(filter(lambda x: not x[1], read_map)))\n",
    "    \n",
    "    gb = groupby(read_map, lambda x: x[1])\n",
    "    gb = list(map(lambda x: (x[0], list(x[1])), gb))\n",
    "    max_good_seq = 0\n",
    "    for ids in filter(lambda x: x[0], gb):\n",
    "        ids = list(map(lambda x: x[0], ids[1]))\n",
    "        max_good_seq = max(max_good_seq, len(ids))\n",
    "        yield read[ids[0]:(ids[-1] + KMER_LEN)]\n",
    "    if max_good_seq > 0:\n",
    "        max_seq_counter[max_good_seq] += 1\n",
    "\n",
    "\n",
    "def merge_pairs():\n",
    "    \"\"\"Merge pairs\"\"\"\n",
    "    global cleaned_reads\n",
    "    deleted = set()\n",
    "    for seg1, seg2 in permutations(cleaned_reads.keys(), 2):\n",
    "        if any(seg in deleted for seg in (seg1, seg2)):\n",
    "            continue\n",
    "        if seg2 in seg1:\n",
    "            cleaned_reads[seg1] += cleaned_reads[seg2]\n",
    "            del cleaned_reads[seg2]\n",
    "            deleted.add(seg2)\n",
    "    return\n",
    "\n",
    "def clean_vj():\n",
    "    for read, infos in cleaned_reads.items():\n",
    "        bad = set()\n",
    "        for info, n in infos.items():\n",
    "            if n < 15:\n",
    "                bad.add(info)\n",
    "        for info in bad:\n",
    "            infos.pop(info)"
   ]
  },
  {
   "cell_type": "code",
   "execution_count": 15,
   "metadata": {
    "ExecuteTime": {
     "end_time": "2017-06-22T10:20:37.985723Z",
     "start_time": "2017-06-22T10:20:37.976258Z"
    }
   },
   "outputs": [
    {
     "name": "stdout",
     "output_type": "stream",
     "text": [
      "24.318181818181817\n"
     ]
    }
   ],
   "source": [
    "#################################################### KMER OPS\n",
    "\"\"\"Kmers in known D segments\"\"\"\n",
    "Ds = list(read_genes(open(gene_dir / 'IGHD-allP.fa', 'r')))\n",
    "l = 0\n",
    "n = 0\n",
    "ds_kmers = set()\n",
    "for i in Ds:\n",
    "    l += len(i.read)\n",
    "    n += 1\n",
    "    for kmer in split_kmers(i.read, KMER_LEN):\n",
    "        ds_kmers.add(kmer)\n",
    "print(l / n)"
   ]
  },
  {
   "cell_type": "code",
   "execution_count": 10,
   "metadata": {
    "ExecuteTime": {
     "end_time": "2017-06-22T10:17:35.419960Z",
     "start_time": "2017-06-22T10:17:05.732121Z"
    },
    "hide_input": false
   },
   "outputs": [
    {
     "name": "stdout",
     "output_type": "stream",
     "text": [
      "Raw kmers: 3039905\n",
      "Paired kmers: 8350\n",
      "Good kmers: 211\n",
      "Cool kmers: 14\n"
     ]
    }
   ],
   "source": [
    "#################################################### READ OPS\n",
    "\"\"\"Cut D segments from all datasets\"\"\"\n",
    "raw_kmers = Counter()\n",
    "for read, info in read_iter():\n",
    "    for seq in split_kmers(read, KMER_LEN):\n",
    "        raw_kmers[Kmer(seq, *info)] += 1\n",
    "print('Raw kmers:', len(raw_kmers))\n",
    "\n",
    "\"\"\"Count kmer pairs and delete kmers with less than PAIR_TRESHOLD number of occurences\"\"\"\n",
    "kmer_pairs = Counter()\n",
    "for kmer, n in raw_kmers.items():\n",
    "    if n > PAIR_TRESHOLD:\n",
    "        kmer_pairs[kmer.seq] += 1\n",
    "print('Paired kmers:', len(kmer_pairs))\n",
    "\n",
    "\"\"\"Filter kmers with small number of pairs\"\"\"\n",
    "good = set()\n",
    "for kmer, n in kmer_pairs.items():\n",
    "    if n >= 20:\n",
    "        good.add(kmer)\n",
    "print('Good kmers:', len(good))\n",
    "\n",
    "\"\"\"Filter kmers with small number of pairs\"\"\"\n",
    "cool = set()\n",
    "for kmer, n in kmer_pairs.items():\n",
    "    if kmer not in ds_kmers and n >= COOL_TRESHOLD:\n",
    "        cool.add(kmer)\n",
    "print('Cool kmers:', len(cool))"
   ]
  },
  {
   "cell_type": "code",
   "execution_count": 47,
   "metadata": {
    "ExecuteTime": {
     "end_time": "2017-06-22T13:19:24.869130Z",
     "start_time": "2017-06-22T13:18:49.417134Z"
    },
    "scrolled": false
   },
   "outputs": [
    {
     "name": "stdout",
     "output_type": "stream",
     "text": [
      "7452\n",
      "5098386\n"
     ]
    }
   ],
   "source": [
    "\"\"\"Clean trash from d segments\"\"\"\n",
    "bad_counter = 0\n",
    "cleaned_reads = defaultdict(Counter)\n",
    "before_len = Counter()\n",
    "after_len = Counter()\n",
    "distribution = [[0, 0] for _ in range(200)]\n",
    "max_seq_counter = Counter()\n",
    "\n",
    "for read, info in read_iter():\n",
    "    before_len[len(read)] += 1\n",
    "    for clean_read in split_read(read):\n",
    "        after_len[len(clean_read)] += 1\n",
    "        cleaned_reads[clean_read][info] += 1\n",
    "\n",
    "print(len(cleaned_reads))\n",
    "print(bad_counter)"
   ]
  },
  {
   "cell_type": "code",
   "execution_count": 51,
   "metadata": {
    "ExecuteTime": {
     "end_time": "2017-06-22T13:22:50.041754Z",
     "start_time": "2017-06-22T13:22:09.417125Z"
    }
   },
   "outputs": [
    {
     "name": "stdout",
     "output_type": "stream",
     "text": [
      "Merged clean reads: 767\n"
     ]
    }
   ],
   "source": [
    "merge_pairs()\n",
    "print('Merged clean reads:', len(cleaned_reads))"
   ]
  },
  {
   "cell_type": "code",
   "execution_count": 65,
   "metadata": {
    "ExecuteTime": {
     "end_time": "2017-06-22T13:35:58.100628Z",
     "start_time": "2017-06-22T13:35:58.089475Z"
    }
   },
   "outputs": [
    {
     "name": "stdout",
     "output_type": "stream",
     "text": [
      "7.704041720990873\n",
      "4.1095176010430245\n"
     ]
    }
   ],
   "source": [
    "def Na():\n",
    "    sa = 0\n",
    "    for infos in cleaned_reads.values():\n",
    "        sa += len(infos)\n",
    "    return sa / len(cleaned_reads)\n",
    "\n",
    "print(Na())\n",
    "clean_vj()\n",
    "print(Na())"
   ]
  },
  {
   "cell_type": "code",
   "execution_count": 67,
   "metadata": {
    "ExecuteTime": {
     "end_time": "2017-06-22T13:40:42.258475Z",
     "start_time": "2017-06-22T13:40:40.846566Z"
    },
    "scrolled": false
   },
   "outputs": [
    {
     "data": {
      "text/plain": [
       "<matplotlib.legend.Legend at 0x7fe806bdb630>"
      ]
     },
     "execution_count": 67,
     "metadata": {},
     "output_type": "execute_result"
    },
    {
     "data": {
      "image/png": "[encoded data removed]",
      "text/plain": [
       "<matplotlib.figure.Figure at 0x7fe806bdb668>"
      ]
     },
     "metadata": {},
     "output_type": "display_data"
    }
   ],
   "source": [
    "cleaned_plot = plt.figure(figsize=(13, 13))\n",
    "\n",
    "def xs(cont):\n",
    "    for read, infos in cleaned_reads.items():\n",
    "        #if len(infos) > 1000: continue\n",
    "        if any(kmer in read for kmer in cool) == cont:\n",
    "            yield len(infos)\n",
    "\n",
    "_ = plt.hist([list(xs(True)), list(xs(False))], bins=100, \n",
    "             color=['r', 'b'], log=True, label=['Contains unique kmer', 'Does not contain'])\n",
    "plt.xlabel('Number of different V-J-dataset in segment', fontsize=20)\n",
    "plt.ylabel('Quantity of such segments', fontsize=20)\n",
    "plt.legend(fontsize=20)"
   ]
  },
  {
   "cell_type": "code",
   "execution_count": 63,
   "metadata": {
    "ExecuteTime": {
     "end_time": "2017-06-22T13:34:56.598787Z",
     "start_time": "2017-06-22T13:34:56.240606Z"
    },
    "collapsed": true
   },
   "outputs": [],
   "source": [
    "cleaned_plot.savefig('cleaned3.png')"
   ]
  },
  {
   "cell_type": "code",
   "execution_count": 72,
   "metadata": {
    "ExecuteTime": {
     "end_time": "2017-06-22T15:42:01.456490Z",
     "start_time": "2017-06-22T15:42:01.206424Z"
    }
   },
   "outputs": [
    {
     "data": {
      "text/plain": [
       "<matplotlib.collections.PathCollection at 0x7fe802ac2cc0>"
      ]
     },
     "execution_count": 72,
     "metadata": {},
     "output_type": "execute_result"
    },
    {
     "data": {
      "image/png": "[encoded data removed]",
      "text/plain": [
       "<matplotlib.figure.Figure at 0x7fe80298dda0>"
      ]
     },
     "metadata": {},
     "output_type": "display_data"
    }
   ],
   "source": [
    "x = []\n",
    "y = []\n",
    "for read, infos in cleaned_reads.items():\n",
    "    x.append(len(infos))\n",
    "    y.append(len(read))\n",
    "\n"
   ]
  },
  {
   "cell_type": "code",
   "execution_count": 68,
   "metadata": {
    "ExecuteTime": {
     "end_time": "2017-06-22T13:46:33.392013Z",
     "start_time": "2017-06-22T13:46:33.083188Z"
    }
   },
   "outputs": [
    {
     "data": {
      "text/plain": [
       "13"
      ]
     },
     "execution_count": 68,
     "metadata": {},
     "output_type": "execute_result"
    }
   ],
   "source": [
    "comb_reads = defaultdict(list)\n",
    "for read, triples in cleaned_reads.items():\n",
    "    if len(set(map(lambda x: x[2], triples))) < 2:\n",
    "        continue\n",
    "        \n",
    "    comb = tuple(kmer for kmer in cool if kmer in read)\n",
    "    #print(comb)\n",
    "    if len(comb) > 1:\n",
    "        comb_reads[comb].append(read)\n",
    "\n",
    "len(comb_reads)"
   ]
  },
  {
   "cell_type": "code",
   "execution_count": null,
   "metadata": {
    "collapsed": true
   },
   "outputs": [],
   "source": []
  }
 ],
 "metadata": {
  "kernelspec": {
   "display_name": "Coconut (Python 3)",
   "language": "coconut",
   "name": "coconut3"
  },
  "language_info": {
   "codemirror_mode": {
    "name": "python",
    "version": 3.6
   },
   "file_extension": ".coco",
   "mimetype": "text/x-python3",
   "name": "coconut",
   "pygments_lexer": "coconut"
  },
  "notify_time": "5"
 },
 "nbformat": 4,
 "nbformat_minor": 1
}
