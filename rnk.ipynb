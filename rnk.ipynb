{
 "cells": [
  {
   "cell_type": "code",
   "execution_count": 1,
   "metadata": {
    "collapsed": true
   },
   "outputs": [],
   "source": [
    "from IPython.core.interactiveshell import InteractiveShell\n",
    "InteractiveShell.ast_node_interactivity = \"all\""
   ]
  },
  {
   "cell_type": "code",
   "execution_count": 67,
   "metadata": {
    "collapsed": true
   },
   "outputs": [],
   "source": [
    "e1 = 'AAAAAAUUCCUU'"
   ]
  },
  {
   "cell_type": "code",
   "execution_count": 68,
   "metadata": {
    "collapsed": true
   },
   "outputs": [],
   "source": [
    "e2 = 'ACCGU'"
   ]
  },
  {
   "cell_type": "code",
   "execution_count": 69,
   "metadata": {
    "collapsed": true
   },
   "outputs": [],
   "source": [
    "e3 = 'AAUUCG'"
   ]
  },
  {
   "cell_type": "code",
   "execution_count": 2,
   "metadata": {
    "collapsed": true
   },
   "outputs": [],
   "source": [
    "rnk = 'AGCGGGGUGGAGCAGCCUGGUAGCUCbbGUCGGGCUCAUAACCCGAAGAUCGUCGGUUCAAAUCCGGCCCCCGCUACCA'"
   ]
  },
  {
   "cell_type": "code",
   "execution_count": 3,
   "metadata": {},
   "outputs": [
    {
     "data": {
      "text/plain": [
       "77"
      ]
     },
     "execution_count": 3,
     "metadata": {},
     "output_type": "execute_result"
    }
   ],
   "source": [
    "n = len(rnk)\n",
    "n"
   ]
  },
  {
   "cell_type": "code",
   "execution_count": 4,
   "metadata": {
    "collapsed": true
   },
   "outputs": [],
   "source": [
    "def match(a, b):\n",
    "    compl = ['AU', 'CG']\n",
    "    return ((a + b) in compl) or ((b + a) in compl)"
   ]
  },
  {
   "cell_type": "code",
   "execution_count": 26,
   "metadata": {
    "collapsed": true
   },
   "outputs": [],
   "source": [
    "s = [[0] * n for i in range(n)]\n",
    "prev = [[list() for j in range(n)] for i in range(n)]\n",
    "ans = ''"
   ]
  },
  {
   "cell_type": "code",
   "execution_count": 27,
   "metadata": {
    "collapsed": true
   },
   "outputs": [],
   "source": [
    "def fill(i, j):\n",
    "    max_score = (0, [])\n",
    "    match_score = int(match(rnk[i], rnk[j])) + s[i+1][j-1], [(i+1, j-1)]\n",
    "    \n",
    "    for k in range(i+1, j):\n",
    "        bonus = 0\n",
    "        score = s[i][k] + s[k+1][j] + bonus, [(i, k), (k+1, j)]\n",
    "        max_score = max(max_score, score)\n",
    "    \n",
    "    max_score = max(max_score, match_score)\n",
    "    s[i][j] = max_score[0]\n",
    "    prev[i][j] = max_score[1]"
   ]
  },
  {
   "cell_type": "code",
   "execution_count": 28,
   "metadata": {
    "collapsed": true
   },
   "outputs": [],
   "source": [
    "def restore(i, j, knots):\n",
    "    coords = prev[i][j]\n",
    "    if len(coords) == 1:\n",
    "        restore(*coords[0], knots)\n",
    "        if match(rnk[i], rnk[j]):\n",
    "            knots[i] = '('\n",
    "            knots[j]  = ')'\n",
    "    elif len(coords) == 2:\n",
    "        restore(*coords[0], knots)\n",
    "        restore(*coords[1], knots)"
   ]
  },
  {
   "cell_type": "code",
   "execution_count": 29,
   "metadata": {
    "collapsed": true
   },
   "outputs": [],
   "source": [
    "for k in range(3, n):\n",
    "    for i in range(n - k):\n",
    "        fill(i, i+k)"
   ]
  },
  {
   "cell_type": "code",
   "execution_count": 31,
   "metadata": {},
   "outputs": [
    {
     "name": "stdout",
     "output_type": "stream",
     "text": [
      "((((((((..)((((((..)..)).(((((((.(...).)))))(..))))(((((..)).))))))))))))....\n"
     ]
    }
   ],
   "source": [
    "knots = ['.' for i in range(n)]\n",
    "restore(0, n-1, knots)\n",
    "print(n)\n",
    "print(''.join(knots))"
   ]
  },
  {
   "cell_type": "code",
   "execution_count": null,
   "metadata": {
    "collapsed": true
   },
   "outputs": [],
   "source": []
  }
 ],
 "metadata": {
  "kernelspec": {
   "display_name": "Python 3",
   "language": "python",
   "name": "python3"
  },
  "language_info": {
   "codemirror_mode": {
    "name": "ipython",
    "version": 3
   },
   "file_extension": ".py",
   "mimetype": "text/x-python",
   "name": "python",
   "nbconvert_exporter": "python",
   "pygments_lexer": "ipython3",
   "version": "3.6.4"
  }
 },
 "nbformat": 4,
 "nbformat_minor": 2
}
